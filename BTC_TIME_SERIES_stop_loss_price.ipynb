{
 "cells": [
  {
   "cell_type": "markdown",
   "metadata": {},
   "source": [
    "Посмотрим поведение цены за минуту, когда цена хая больше 0.5% от цены открытия.\n",
    "\n",
    "Найдем цену стоп лосса в проценатах от цены открытия, чтобы мат ожидание модели было максимальным"
   ]
  },
  {
   "cell_type": "code",
   "execution_count": 3,
   "metadata": {},
   "outputs": [],
   "source": [
    "import pandas as pd\n",
    "import numpy as np\n",
    "import matplotlib.pyplot as plt\n",
    "import seaborn as sns"
   ]
  },
  {
   "cell_type": "code",
   "execution_count": 12,
   "metadata": {},
   "outputs": [],
   "source": [
    "df = pd.read_csv(\"btsusd.csv\")"
   ]
  },
  {
   "cell_type": "code",
   "execution_count": 13,
   "metadata": {},
   "outputs": [],
   "source": [
    "#добавляем столбец с таргетом, который говорит, поднялась ли цена более чем на 0.5% за эту минуту, или нет\n",
    "df[\"target\"] = ((df[\"High\"]-df[\"Open\"])/df[\"Open\"])>=0.005"
   ]
  },
  {
   "cell_type": "code",
   "execution_count": 14,
   "metadata": {},
   "outputs": [],
   "source": [
    "#уберем записи раньше 2017 года из за неинформативности\n",
    "df[\"year\"] = pd.to_datetime(df[\"Timestamp\"], unit = \"s\").dt.year\n",
    "df = df[df[\"year\"]>2016]"
   ]
  },
  {
   "cell_type": "code",
   "execution_count": 15,
   "metadata": {},
   "outputs": [],
   "source": [
    "true_df = df[df[\"target\"]==True]"
   ]
  },
  {
   "cell_type": "markdown",
   "metadata": {},
   "source": [
    "изучим значения Low столбца для наших положительних записей\n",
    "\n",
    "а точнее, процентное отклонение Low цены от цены открытия"
   ]
  },
  {
   "cell_type": "code",
   "execution_count": 21,
   "metadata": {},
   "outputs": [
    {
     "name": "stderr",
     "output_type": "stream",
     "text": [
      "<ipython-input-21-90c8028774af>:2: SettingWithCopyWarning: \n",
      "A value is trying to be set on a copy of a slice from a DataFrame.\n",
      "Try using .loc[row_indexer,col_indexer] = value instead\n",
      "\n",
      "See the caveats in the documentation: https://pandas.pydata.org/pandas-docs/stable/user_guide/indexing.html#returning-a-view-versus-a-copy\n",
      "  true_df[\"low_percent\"] = (true_df[\"Open\"]-true_df[\"Low\"])/true_df[\"Open\"]\n"
     ]
    }
   ],
   "source": [
    "#добавим столбец процентного отклонения\n",
    "true_df[\"low_percent\"] = (true_df[\"Open\"]-true_df[\"Low\"])/true_df[\"Open\"]"
   ]
  },
  {
   "cell_type": "code",
   "execution_count": 22,
   "metadata": {},
   "outputs": [
    {
     "data": {
      "text/html": [
       "<div>\n",
       "<style scoped>\n",
       "    .dataframe tbody tr th:only-of-type {\n",
       "        vertical-align: middle;\n",
       "    }\n",
       "\n",
       "    .dataframe tbody tr th {\n",
       "        vertical-align: top;\n",
       "    }\n",
       "\n",
       "    .dataframe thead th {\n",
       "        text-align: right;\n",
       "    }\n",
       "</style>\n",
       "<table border=\"1\" class=\"dataframe\">\n",
       "  <thead>\n",
       "    <tr style=\"text-align: right;\">\n",
       "      <th></th>\n",
       "      <th>Timestamp</th>\n",
       "      <th>Open</th>\n",
       "      <th>High</th>\n",
       "      <th>Low</th>\n",
       "      <th>Close</th>\n",
       "      <th>Volume_(BTC)</th>\n",
       "      <th>Volume_(Currency)</th>\n",
       "      <th>Weighted_Price</th>\n",
       "      <th>target</th>\n",
       "      <th>year</th>\n",
       "      <th>low_percent</th>\n",
       "    </tr>\n",
       "  </thead>\n",
       "  <tbody>\n",
       "    <tr>\n",
       "      <th>2627625</th>\n",
       "      <td>1483363740</td>\n",
       "      <td>1000.54</td>\n",
       "      <td>1005.58</td>\n",
       "      <td>998.72</td>\n",
       "      <td>1005.56</td>\n",
       "      <td>181.745167</td>\n",
       "      <td>1.817001e+05</td>\n",
       "      <td>999.751829</td>\n",
       "      <td>True</td>\n",
       "      <td>2017</td>\n",
       "      <td>0.001819</td>\n",
       "    </tr>\n",
       "    <tr>\n",
       "      <th>2627631</th>\n",
       "      <td>1483364100</td>\n",
       "      <td>1005.84</td>\n",
       "      <td>1015.30</td>\n",
       "      <td>1005.84</td>\n",
       "      <td>1011.99</td>\n",
       "      <td>57.728770</td>\n",
       "      <td>5.824665e+04</td>\n",
       "      <td>1008.970867</td>\n",
       "      <td>True</td>\n",
       "      <td>2017</td>\n",
       "      <td>0.000000</td>\n",
       "    </tr>\n",
       "    <tr>\n",
       "      <th>2628032</th>\n",
       "      <td>1483388160</td>\n",
       "      <td>992.69</td>\n",
       "      <td>1002.02</td>\n",
       "      <td>991.00</td>\n",
       "      <td>1002.02</td>\n",
       "      <td>56.864419</td>\n",
       "      <td>5.659362e+04</td>\n",
       "      <td>995.237845</td>\n",
       "      <td>True</td>\n",
       "      <td>2017</td>\n",
       "      <td>0.001702</td>\n",
       "    </tr>\n",
       "    <tr>\n",
       "      <th>2628386</th>\n",
       "      <td>1483409400</td>\n",
       "      <td>1004.21</td>\n",
       "      <td>1009.77</td>\n",
       "      <td>1000.73</td>\n",
       "      <td>1009.77</td>\n",
       "      <td>151.964624</td>\n",
       "      <td>1.524313e+05</td>\n",
       "      <td>1003.071004</td>\n",
       "      <td>True</td>\n",
       "      <td>2017</td>\n",
       "      <td>0.003465</td>\n",
       "    </tr>\n",
       "    <tr>\n",
       "      <th>2628387</th>\n",
       "      <td>1483409460</td>\n",
       "      <td>1009.77</td>\n",
       "      <td>1015.41</td>\n",
       "      <td>1009.77</td>\n",
       "      <td>1015.41</td>\n",
       "      <td>8.938777</td>\n",
       "      <td>9.048290e+03</td>\n",
       "      <td>1012.251520</td>\n",
       "      <td>True</td>\n",
       "      <td>2017</td>\n",
       "      <td>0.000000</td>\n",
       "    </tr>\n",
       "    <tr>\n",
       "      <th>...</th>\n",
       "      <td>...</td>\n",
       "      <td>...</td>\n",
       "      <td>...</td>\n",
       "      <td>...</td>\n",
       "      <td>...</td>\n",
       "      <td>...</td>\n",
       "      <td>...</td>\n",
       "      <td>...</td>\n",
       "      <td>...</td>\n",
       "      <td>...</td>\n",
       "      <td>...</td>\n",
       "    </tr>\n",
       "    <tr>\n",
       "      <th>4564970</th>\n",
       "      <td>1599604440</td>\n",
       "      <td>10125.97</td>\n",
       "      <td>10205.42</td>\n",
       "      <td>10101.93</td>\n",
       "      <td>10179.14</td>\n",
       "      <td>205.819999</td>\n",
       "      <td>2.092810e+06</td>\n",
       "      <td>10168.157717</td>\n",
       "      <td>True</td>\n",
       "      <td>2020</td>\n",
       "      <td>0.002374</td>\n",
       "    </tr>\n",
       "    <tr>\n",
       "      <th>4565731</th>\n",
       "      <td>1599650100</td>\n",
       "      <td>10198.80</td>\n",
       "      <td>10257.00</td>\n",
       "      <td>10198.80</td>\n",
       "      <td>10257.00</td>\n",
       "      <td>25.892031</td>\n",
       "      <td>2.649653e+05</td>\n",
       "      <td>10233.469448</td>\n",
       "      <td>True</td>\n",
       "      <td>2020</td>\n",
       "      <td>0.000000</td>\n",
       "    </tr>\n",
       "    <tr>\n",
       "      <th>4566506</th>\n",
       "      <td>1599696600</td>\n",
       "      <td>10248.49</td>\n",
       "      <td>10301.69</td>\n",
       "      <td>10248.49</td>\n",
       "      <td>10301.69</td>\n",
       "      <td>26.902567</td>\n",
       "      <td>2.765533e+05</td>\n",
       "      <td>10279.812762</td>\n",
       "      <td>True</td>\n",
       "      <td>2020</td>\n",
       "      <td>0.000000</td>\n",
       "    </tr>\n",
       "    <tr>\n",
       "      <th>4571033</th>\n",
       "      <td>1599968220</td>\n",
       "      <td>10469.86</td>\n",
       "      <td>10527.84</td>\n",
       "      <td>10469.86</td>\n",
       "      <td>10523.53</td>\n",
       "      <td>55.649362</td>\n",
       "      <td>5.843942e+05</td>\n",
       "      <td>10501.363693</td>\n",
       "      <td>True</td>\n",
       "      <td>2020</td>\n",
       "      <td>0.000000</td>\n",
       "    </tr>\n",
       "    <tr>\n",
       "      <th>4571509</th>\n",
       "      <td>1599996780</td>\n",
       "      <td>10334.05</td>\n",
       "      <td>10386.02</td>\n",
       "      <td>10317.50</td>\n",
       "      <td>10358.64</td>\n",
       "      <td>31.406945</td>\n",
       "      <td>3.251423e+05</td>\n",
       "      <td>10352.559713</td>\n",
       "      <td>True</td>\n",
       "      <td>2020</td>\n",
       "      <td>0.001602</td>\n",
       "    </tr>\n",
       "  </tbody>\n",
       "</table>\n",
       "<p>16735 rows × 11 columns</p>\n",
       "</div>"
      ],
      "text/plain": [
       "          Timestamp      Open      High       Low     Close  Volume_(BTC)  \\\n",
       "2627625  1483363740   1000.54   1005.58    998.72   1005.56    181.745167   \n",
       "2627631  1483364100   1005.84   1015.30   1005.84   1011.99     57.728770   \n",
       "2628032  1483388160    992.69   1002.02    991.00   1002.02     56.864419   \n",
       "2628386  1483409400   1004.21   1009.77   1000.73   1009.77    151.964624   \n",
       "2628387  1483409460   1009.77   1015.41   1009.77   1015.41      8.938777   \n",
       "...             ...       ...       ...       ...       ...           ...   \n",
       "4564970  1599604440  10125.97  10205.42  10101.93  10179.14    205.819999   \n",
       "4565731  1599650100  10198.80  10257.00  10198.80  10257.00     25.892031   \n",
       "4566506  1599696600  10248.49  10301.69  10248.49  10301.69     26.902567   \n",
       "4571033  1599968220  10469.86  10527.84  10469.86  10523.53     55.649362   \n",
       "4571509  1599996780  10334.05  10386.02  10317.50  10358.64     31.406945   \n",
       "\n",
       "         Volume_(Currency)  Weighted_Price  target  year  low_percent  \n",
       "2627625       1.817001e+05      999.751829    True  2017     0.001819  \n",
       "2627631       5.824665e+04     1008.970867    True  2017     0.000000  \n",
       "2628032       5.659362e+04      995.237845    True  2017     0.001702  \n",
       "2628386       1.524313e+05     1003.071004    True  2017     0.003465  \n",
       "2628387       9.048290e+03     1012.251520    True  2017     0.000000  \n",
       "...                    ...             ...     ...   ...          ...  \n",
       "4564970       2.092810e+06    10168.157717    True  2020     0.002374  \n",
       "4565731       2.649653e+05    10233.469448    True  2020     0.000000  \n",
       "4566506       2.765533e+05    10279.812762    True  2020     0.000000  \n",
       "4571033       5.843942e+05    10501.363693    True  2020     0.000000  \n",
       "4571509       3.251423e+05    10352.559713    True  2020     0.001602  \n",
       "\n",
       "[16735 rows x 11 columns]"
      ]
     },
     "execution_count": 22,
     "metadata": {},
     "output_type": "execute_result"
    }
   ],
   "source": [
    "true_df"
   ]
  },
  {
   "cell_type": "code",
   "execution_count": 86,
   "metadata": {},
   "outputs": [
    {
     "name": "stderr",
     "output_type": "stream",
     "text": [
      "c:\\users\\grish\\pycharmprojects\\testtest\\venv1\\lib\\site-packages\\seaborn\\distributions.py:2551: FutureWarning: `distplot` is a deprecated function and will be removed in a future version. Please adapt your code to use either `displot` (a figure-level function with similar flexibility) or `histplot` (an axes-level function for histograms).\n",
      "  warnings.warn(msg, FutureWarning)\n"
     ]
    },
    {
     "data": {
      "image/png": "[encoded data removed]",
      "text/plain": [
       "<Figure size 1080x360 with 2 Axes>"
      ]
     },
     "metadata": {
      "needs_background": "light"
     },
     "output_type": "display_data"
    }
   ],
   "source": [
    "fig, axes = plt.subplots(1,2,figsize = (15,5))\n",
    "fig.suptitle(\"анализ Low цены для положительных записей\")\n",
    "\n",
    "sns.boxplot(ax =axes[0], x = true_df[\"low_percent\"])\n",
    "axes[0].set_title(\"выбросы\")\n",
    "\n",
    "sns.distplot(ax = axes[1], x = true_df[\"low_percent\"])\n",
    "axes[1].set_title(\"распределение\")\n",
    "\n",
    "plt.show()"
   ]
  },
  {
   "cell_type": "markdown",
   "metadata": {},
   "source": [
    "надо найти тот процент закрытия сделки, который принесет нам максимальную прибыль\n",
    "\n",
    "мы имеем модель с 84% точностью определяющую возрастание цены в след минуту\n",
    "\n",
    "будем идти по процентилем и смотреть на мат ожидание каждого варианта цены закрытия"
   ]
  },
  {
   "cell_type": "code",
   "execution_count": 41,
   "metadata": {},
   "outputs": [],
   "source": [
    "percentiles = np.arange(50,101,5)"
   ]
  },
  {
   "cell_type": "code",
   "execution_count": 55,
   "metadata": {},
   "outputs": [
    {
     "name": "stdout",
     "output_type": "stream",
     "text": [
      "[(50, 8.753647353065293e-05), (55, 0.0002474323292844704), (60, 0.00042444310912008345), (65, 0.0006170248152400317), (70, 0.0008652422347044428), (75, 0.0011481380424612244), (80, 0.0015068925922106392), (85, 0.00196903338039341), (90, 0.002635805217665994), (95, 0.004118161072688446), (100, 0.06564816092607166)]\n"
     ]
    }
   ],
   "source": [
    "percentiles_list = [(percent, np.percentile(true_df[\"low_percent\"], percent)) for percent in percentiles]\n",
    "print(percentiles_list)"
   ]
  },
  {
   "cell_type": "markdown",
   "metadata": {},
   "source": [
    "Для тестов возьмем все эти значения стоп лосс цен"
   ]
  },
  {
   "cell_type": "markdown",
   "metadata": {},
   "source": [
    "Пояснения:\n",
    "\n",
    "    процентиль 60,допустим, означает, что мы ставим стоп лосс цену на 0.0004244% от цены открытия,\n",
    "    а также отсекаем 40% потенциально плюсовых сделок"
   ]
  },
  {
   "cell_type": "markdown",
   "metadata": {},
   "source": [
    "Получается, из всех предсказаных моделью положительных сделок, 84 будут истинно верны\n",
    "\n",
    "Соответственно, в 84% будут приносить по 0.5% от ставки, а остальные 16% будут закрыты по стоп лосс цене\n",
    "\n",
    "Но, из этих 84% лишь число процентиля будет приносить выгоду, а остальные проценты также будут закрыты по стоп лоссу\n",
    "\n",
    "Давайте рассчитаем нашу прибыль за, допустим, n входов в сделку(модель n раз определила, что за следующую минуту \n",
    "                                                                 цена вырастет более чем на 0.5%)\n",
    "\n",
    "Пометка: прибылью в примере будем считать ровно 0.5% от сделки, хотя на практике за минуту цена может подскачить более, чем на 0.5%"
   ]
  },
  {
   "cell_type": "code",
   "execution_count": 76,
   "metadata": {},
   "outputs": [],
   "source": [
    "#определим функцию и применим ее к нашим тестовым стоп лоссам и процентилем\n",
    "def stonks(min_profit,percentile, stop_loss, n_sdelok):\n",
    "    minus_1 = 0.16*stop_loss\n",
    "    minus_2 = 0.84*((100-percentile)/100)*stop_loss\n",
    "    plus_1 = 0.84*(percentile/100)*min_profit\n",
    "    \n",
    "    return f\"итоговый профит от {n_sdelok} сделок : {(minus_1+minus_2+plus_1)*n_sdelok} со стоп лоссом {stop_loss} и процентом отсечения {100-percentile}\""
   ]
  },
  {
   "cell_type": "code",
   "execution_count": 69,
   "metadata": {},
   "outputs": [
    {
     "name": "stdout",
     "output_type": "stream",
     "text": [
      "итоговый профит от 100 сделок : 0.21507711546477787 со стоп лоссом 8.753647353065293e-05 и процентом отсечения 50\n",
      "итоговый профит от 100 сделок : 0.24431185931550453 со стоп лоссом 0.0002474323292844704 и процентом отсечения 45\n",
      "итоговый профит от 100 сделок : 0.2730523782123562 со стоп лоссом 0.00042444310912008345 и процентом отсечения 40\n",
      "итоговый профит от 100 сделок : 0.3010129266118975 со стоп лоссом 0.0006170248152400317 и процентом отсечения 35\n",
      "итоговый профит от 100 сделок : 0.32964798006982304 со стоп лоссом 0.0008652422347044428 и процентом отсечения 30\n",
      "итоговый профит от 100 сделок : 0.35748110757106527 со стоп лоссом 0.0011481380424612244 и процентом отсечения 25\n",
      "итоговый профит от 100 сделок : 0.385426077024509 со стоп лоссом 0.0015068925922106392 и процентом отсечения 20\n",
      "итоговый профит от 100 сделок : 0.4133143546792515 со стоп лоссом 0.00196903338039341 и процентом отсечения 15\n",
      "итоговый профит от 100 сделок : 0.4423136473110502 со стоп лоссом 0.002635805217665994 и процентом отсечения 10\n",
      "итоговый профит от 100 сделок : 0.4821868536683066 со стоп лоссом 0.004118161072688446 и процентом отсечения 5\n",
      "итоговый профит от 100 сделок : 1.4703705748171467 со стоп лоссом 0.06564816092607166 и процентом отсечения 0\n"
     ]
    }
   ],
   "source": [
    "for i in percentiles_list:\n",
    "    print(stonks(0.005,i[0],i[1],100))"
   ]
  },
  {
   "cell_type": "markdown",
   "metadata": {},
   "source": [
    "По результатам лучшее мат ожидание модели при стоп лоссе 6.5% от цены открытия. Или, другими словами, отсутствие стоп лосса, поскольку 6.5% - это макс отклонение из выборки.\n",
    "\n",
    "Но, как по мне, это большой риск. Для первых тестов модели сделаем стоп лосс на 0.26% и процентом отсечения 10"
   ]
  },
  {
   "cell_type": "code",
   "execution_count": null,
   "metadata": {},
   "outputs": [],
   "source": []
  }
 ],
 "metadata": {
  "kernelspec": {
   "display_name": "Python 3",
   "language": "python",
   "name": "python3"
  },
  "language_info": {
   "codemirror_mode": {
    "name": "ipython",
    "version": 3
   },
   "file_extension": ".py",
   "mimetype": "text/x-python",
   "name": "python",
   "nbconvert_exporter": "python",
   "pygments_lexer": "ipython3",
   "version": "3.8.6"
  }
 },
 "nbformat": 4,
 "nbformat_minor": 4
}
