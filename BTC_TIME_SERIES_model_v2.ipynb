{
 "cells": [
  {
   "cell_type": "code",
   "execution_count": 1,
   "metadata": {},
   "outputs": [],
   "source": [
    "import pandas as pd\n",
    "import numpy as np\n",
    "from tensorflow import keras\n",
    "from tensorflow.keras import layers\n",
    "from tensorflow.keras.callbacks import EarlyStopping, ModelCheckpoint\n",
    "from sklearn.preprocessing import MinMaxScaler\n",
    "from sklearn.metrics import precision_score, accuracy_score\n",
    "from sklearn.model_selection import train_test_split"
   ]
  },
  {
   "cell_type": "code",
   "execution_count": 20,
   "metadata": {},
   "outputs": [],
   "source": [
    "df = pd.read_csv(\"binance_btcusd.csv\")"
   ]
  },
  {
   "cell_type": "code",
   "execution_count": 21,
   "metadata": {},
   "outputs": [
    {
     "data": {
      "text/html": [
       "<div>\n",
       "<style scoped>\n",
       "    .dataframe tbody tr th:only-of-type {\n",
       "        vertical-align: middle;\n",
       "    }\n",
       "\n",
       "    .dataframe tbody tr th {\n",
       "        vertical-align: top;\n",
       "    }\n",
       "\n",
       "    .dataframe thead th {\n",
       "        text-align: right;\n",
       "    }\n",
       "</style>\n",
       "<table border=\"1\" class=\"dataframe\">\n",
       "  <thead>\n",
       "    <tr style=\"text-align: right;\">\n",
       "      <th></th>\n",
       "      <th>Unnamed: 0</th>\n",
       "      <th>0</th>\n",
       "      <th>1</th>\n",
       "      <th>2</th>\n",
       "      <th>3</th>\n",
       "      <th>4</th>\n",
       "      <th>5</th>\n",
       "      <th>6</th>\n",
       "      <th>7</th>\n",
       "      <th>8</th>\n",
       "      <th>9</th>\n",
       "      <th>10</th>\n",
       "      <th>11</th>\n",
       "    </tr>\n",
       "  </thead>\n",
       "  <tbody>\n",
       "    <tr>\n",
       "      <th>0</th>\n",
       "      <td>0</td>\n",
       "      <td>1596229260000</td>\n",
       "      <td>11322.05</td>\n",
       "      <td>11323.02</td>\n",
       "      <td>11294.00</td>\n",
       "      <td>11297.15</td>\n",
       "      <td>75.471279</td>\n",
       "      <td>1596229319999</td>\n",
       "      <td>8.534482e+05</td>\n",
       "      <td>1200</td>\n",
       "      <td>24.872009</td>\n",
       "      <td>281269.304392</td>\n",
       "      <td>0</td>\n",
       "    </tr>\n",
       "    <tr>\n",
       "      <th>1</th>\n",
       "      <td>1</td>\n",
       "      <td>1596229320000</td>\n",
       "      <td>11298.56</td>\n",
       "      <td>11332.02</td>\n",
       "      <td>11297.07</td>\n",
       "      <td>11330.86</td>\n",
       "      <td>57.373999</td>\n",
       "      <td>1596229379999</td>\n",
       "      <td>6.492224e+05</td>\n",
       "      <td>1486</td>\n",
       "      <td>36.822923</td>\n",
       "      <td>416647.500196</td>\n",
       "      <td>0</td>\n",
       "    </tr>\n",
       "    <tr>\n",
       "      <th>2</th>\n",
       "      <td>2</td>\n",
       "      <td>1596229380000</td>\n",
       "      <td>11331.09</td>\n",
       "      <td>11350.06</td>\n",
       "      <td>11330.86</td>\n",
       "      <td>11347.44</td>\n",
       "      <td>76.438368</td>\n",
       "      <td>1596229439999</td>\n",
       "      <td>8.670462e+05</td>\n",
       "      <td>1114</td>\n",
       "      <td>59.610735</td>\n",
       "      <td>676161.703455</td>\n",
       "      <td>0</td>\n",
       "    </tr>\n",
       "    <tr>\n",
       "      <th>3</th>\n",
       "      <td>3</td>\n",
       "      <td>1596229440000</td>\n",
       "      <td>11347.44</td>\n",
       "      <td>11365.28</td>\n",
       "      <td>11347.44</td>\n",
       "      <td>11363.27</td>\n",
       "      <td>90.757347</td>\n",
       "      <td>1596229499999</td>\n",
       "      <td>1.030781e+06</td>\n",
       "      <td>1130</td>\n",
       "      <td>52.535249</td>\n",
       "      <td>596693.051054</td>\n",
       "      <td>0</td>\n",
       "    </tr>\n",
       "    <tr>\n",
       "      <th>4</th>\n",
       "      <td>4</td>\n",
       "      <td>1596229500000</td>\n",
       "      <td>11363.46</td>\n",
       "      <td>11365.52</td>\n",
       "      <td>11363.27</td>\n",
       "      <td>11364.08</td>\n",
       "      <td>21.991909</td>\n",
       "      <td>1596229559999</td>\n",
       "      <td>2.499153e+05</td>\n",
       "      <td>332</td>\n",
       "      <td>4.848286</td>\n",
       "      <td>55096.556460</td>\n",
       "      <td>0</td>\n",
       "    </tr>\n",
       "  </tbody>\n",
       "</table>\n",
       "</div>"
      ],
      "text/plain": [
       "   Unnamed: 0              0         1         2         3         4  \\\n",
       "0           0  1596229260000  11322.05  11323.02  11294.00  11297.15   \n",
       "1           1  1596229320000  11298.56  11332.02  11297.07  11330.86   \n",
       "2           2  1596229380000  11331.09  11350.06  11330.86  11347.44   \n",
       "3           3  1596229440000  11347.44  11365.28  11347.44  11363.27   \n",
       "4           4  1596229500000  11363.46  11365.52  11363.27  11364.08   \n",
       "\n",
       "           5              6             7     8          9             10  11  \n",
       "0  75.471279  1596229319999  8.534482e+05  1200  24.872009  281269.304392   0  \n",
       "1  57.373999  1596229379999  6.492224e+05  1486  36.822923  416647.500196   0  \n",
       "2  76.438368  1596229439999  8.670462e+05  1114  59.610735  676161.703455   0  \n",
       "3  90.757347  1596229499999  1.030781e+06  1130  52.535249  596693.051054   0  \n",
       "4  21.991909  1596229559999  2.499153e+05   332   4.848286   55096.556460   0  "
      ]
     },
     "execution_count": 21,
     "metadata": {},
     "output_type": "execute_result"
    }
   ],
   "source": [
    "df.head()"
   ]
  },
  {
   "cell_type": "code",
   "execution_count": 22,
   "metadata": {},
   "outputs": [
    {
     "name": "stdout",
     "output_type": "stream",
     "text": [
      "<class 'pandas.core.frame.DataFrame'>\n",
      "RangeIndex: 269176 entries, 0 to 269175\n",
      "Data columns (total 13 columns):\n",
      " #   Column      Non-Null Count   Dtype  \n",
      "---  ------      --------------   -----  \n",
      " 0   Unnamed: 0  269176 non-null  int64  \n",
      " 1   0           269176 non-null  int64  \n",
      " 2   1           269176 non-null  float64\n",
      " 3   2           269176 non-null  float64\n",
      " 4   3           269176 non-null  float64\n",
      " 5   4           269176 non-null  float64\n",
      " 6   5           269176 non-null  float64\n",
      " 7   6           269176 non-null  int64  \n",
      " 8   7           269176 non-null  float64\n",
      " 9   8           269176 non-null  int64  \n",
      " 10  9           269176 non-null  float64\n",
      " 11  10          269176 non-null  float64\n",
      " 12  11          269176 non-null  int64  \n",
      "dtypes: float64(8), int64(5)\n",
      "memory usage: 26.7 MB\n"
     ]
    }
   ],
   "source": [
    "df.info()"
   ]
  },
  {
   "cell_type": "code",
   "execution_count": 23,
   "metadata": {},
   "outputs": [],
   "source": [
    "#добавляем столбцы с месяцем, днем, часом и минутами\n",
    "df[\"month\"] = pd.to_datetime(df[\"0\"], unit = \"ms\").dt.month\n",
    "df[\"day\"] = pd.to_datetime(df[\"0\"], unit = \"ms\").dt.day\n",
    "df[\"hour\"] = pd.to_datetime(df[\"0\"], unit = \"ms\").dt.hour\n",
    "df[\"minute\"] = pd.to_datetime(df[\"0\"], unit = \"ms\").dt.minute"
   ]
  },
  {
   "cell_type": "code",
   "execution_count": 24,
   "metadata": {},
   "outputs": [],
   "source": [
    "#убираем ненужные столбцы\n",
    "df = df.drop(columns = [\"Unnamed: 0\", \"0\", \"6\", \"11\"])"
   ]
  },
  {
   "cell_type": "code",
   "execution_count": 25,
   "metadata": {},
   "outputs": [],
   "source": [
    "#добавляем столбец target, в котором будет отображаться, повысилвсь ли цена на 0.5% за минуту, или нет\n",
    "df[\"target\"] = ((df[\"2\"] - df[\"1\"])/df[\"1\"])>=0.005"
   ]
  },
  {
   "cell_type": "code",
   "execution_count": 26,
   "metadata": {},
   "outputs": [],
   "source": [
    "X = df.drop(columns = \"target\")\n",
    "y = df[\"target\"]"
   ]
  },
  {
   "cell_type": "code",
   "execution_count": 27,
   "metadata": {},
   "outputs": [],
   "source": [
    "#сохраняем данные, для обучения scaler в итоговом скрипте\n",
    "X.to_csv(\"df_to_fit_scaler.csv\", index = False)"
   ]
  },
  {
   "cell_type": "code",
   "execution_count": 10,
   "metadata": {},
   "outputs": [],
   "source": [
    "#маштабируем данные в (0,1)\n",
    "scaler = MinMaxScaler()\n",
    "X = pd.DataFrame(data = scaler.fit_transform(X))"
   ]
  },
  {
   "cell_type": "code",
   "execution_count": 11,
   "metadata": {},
   "outputs": [],
   "source": [
    "#определяем функцию, для создания выборки, подходящей для обучения сетей\n",
    "def create_dataset(dataframe_X, dataframe_y, look_back,):\n",
    "    data = []\n",
    "    labels = []\n",
    "    \n",
    "    for i in range(look_back, dataframe_X.shape[0]):\n",
    "        data.append(np.array(dataframe_X.iloc[i-look_back:i].values))\n",
    "        labels.append(dataframe_y[i])\n",
    "    \n",
    "    return np.array(data), np.array(labels)"
   ]
  },
  {
   "cell_type": "code",
   "execution_count": 12,
   "metadata": {},
   "outputs": [],
   "source": [
    "X, y = create_dataset(X, y, 15)"
   ]
  },
  {
   "cell_type": "code",
   "execution_count": 13,
   "metadata": {},
   "outputs": [
    {
     "name": "stdout",
     "output_type": "stream",
     "text": [
      "(269161, 15, 13) (269161,)\n"
     ]
    }
   ],
   "source": [
    "print(X.shape, y.shape)"
   ]
  },
  {
   "cell_type": "code",
   "execution_count": 14,
   "metadata": {},
   "outputs": [],
   "source": [
    "#делим выборки на обучающую, валидационную и тестовую. Используем пропорцианальное деление, так как выборка несбалансированная\n",
    "X_train, X_test, y_train, y_test = train_test_split(X, y, train_size = 0.7, stratify = y)\n",
    "X_valid, X_test, y_valid, y_test = train_test_split(X_test, y_test, train_size = 0.7, stratify = y_test)"
   ]
  },
  {
   "cell_type": "code",
   "execution_count": 15,
   "metadata": {},
   "outputs": [
    {
     "name": "stdout",
     "output_type": "stream",
     "text": [
      "(188412, 15, 13) (188412,) 1213\n",
      "(56524, 15, 13) (56524,) 364\n",
      "(24225, 15, 13) (24225,) 156\n"
     ]
    }
   ],
   "source": [
    "#проверяем размеры\n",
    "print(X_train.shape, y_train.shape, y_train.sum())\n",
    "print(X_valid.shape, y_valid.shape, y_valid.sum())\n",
    "print(X_test.shape, y_test.shape, y_test.sum())"
   ]
  },
  {
   "cell_type": "code",
   "execution_count": 16,
   "metadata": {},
   "outputs": [],
   "source": [
    "#зададим нужный тип данных\n",
    "X_train = X_train.astype(\"float32\")\n",
    "X_valid = X_valid.astype(\"float32\")\n",
    "X_test = X_test.astype(\"float32\")"
   ]
  },
  {
   "cell_type": "code",
   "execution_count": 17,
   "metadata": {},
   "outputs": [
    {
     "name": "stdout",
     "output_type": "stream",
     "text": [
      "Epoch 1/3\n",
      "2944/2944 [==============================] - 40s 14ms/step - loss: 0.0667 - precision: 0.0327 - binary_accuracy: 0.9801 - val_loss: 0.0273 - val_precision: 0.4651 - val_binary_accuracy: 0.9935\n",
      "Epoch 2/3\n",
      "2944/2944 [==============================] - 39s 13ms/step - loss: 0.0286 - precision: 0.3659 - binary_accuracy: 0.9934 - val_loss: 0.0264 - val_precision: 0.4762 - val_binary_accuracy: 0.9935\n",
      "Epoch 3/3\n",
      "2944/2944 [==============================] - 37s 13ms/step - loss: 0.0277 - precision: 0.3913 - binary_accuracy: 0.9934 - val_loss: 0.0291 - val_precision: 0.3939 - val_binary_accuracy: 0.9928\n"
     ]
    }
   ],
   "source": [
    "#определяем модель и обучаем\n",
    "model = keras.Sequential([\n",
    "    layers.BatchNormalization(),\n",
    "    layers.LSTM(64, activation = \"relu\", input_shape = (15,13)),\n",
    "    layers.Dropout(rate = 0.3),\n",
    "    layers.BatchNormalization(),\n",
    "    layers.Dropout(rate = 0.3),\n",
    "    layers.Dense(1, activation = \"sigmoid\")\n",
    "])\n",
    "\n",
    "model.compile(\n",
    "    loss = \"binary_crossentropy\",\n",
    "    optimizer = \"adam\",\n",
    "    metrics = [\"Precision\", \"binary_accuracy\"]\n",
    ")\n",
    "filepath = \"best_model_v2.h5\"\n",
    "callback = ModelCheckpoint(filepath, monitor = \"val_precision\", save_best_only = True)\n",
    "\n",
    "history = model.fit(\n",
    "    X_train, y_train,\n",
    "    validation_data = (X_valid, y_valid),\n",
    "    batch_size = 64, epochs = 3,\n",
    "    callbacks = [callback],\n",
    "    shuffle = True\n",
    ")"
   ]
  },
  {
   "cell_type": "code",
   "execution_count": 18,
   "metadata": {},
   "outputs": [
    {
     "name": "stdout",
     "output_type": "stream",
     "text": [
      "0.3888888888888889\n",
      "0.9928998968008256\n"
     ]
    }
   ],
   "source": [
    "#смотрим precision на тестовом множестве\n",
    "pred = model.predict(X_test)\n",
    "res = []\n",
    "for i in pred:\n",
    "    if i[0]>=0.5:\n",
    "        res.append(True)\n",
    "    else:\n",
    "        res.append(False)\n",
    "print(precision_score(y_test, res))\n",
    "print(accuracy_score(y_test, res))"
   ]
  },
  {
   "cell_type": "code",
   "execution_count": 19,
   "metadata": {},
   "outputs": [],
   "source": [
    "#сохраняем лучшую модель\n",
    "#model.save(\"57_test_precision.h5\")"
   ]
  },
  {
   "cell_type": "code",
   "execution_count": null,
   "metadata": {},
   "outputs": [],
   "source": [
    "#получается, из 100 входов в сделуку, 57 будут прибыльными"
   ]
  }
 ],
 "metadata": {
  "kernelspec": {
   "display_name": "Python 3",
   "language": "python",
   "name": "python3"
  },
  "language_info": {
   "codemirror_mode": {
    "name": "ipython",
    "version": 3
   },
   "file_extension": ".py",
   "mimetype": "text/x-python",
   "name": "python",
   "nbconvert_exporter": "python",
   "pygments_lexer": "ipython3",
   "version": "3.8.6"
  }
 },
 "nbformat": 4,
 "nbformat_minor": 4
}
