{
 "cells": [
  {
   "cell_type": "code",
   "execution_count": 1,
   "metadata": {},
   "outputs": [],
   "source": [
    "import pandas as pd\n",
    "import numpy as np\n",
    "import matplotlib.pyplot as plt\n",
    "from tensorflow import keras\n",
    "from tensorflow.keras import layers\n",
    "from tensorflow.keras.callbacks import EarlyStopping, ModelCheckpoint\n",
    "import random\n",
    "import seaborn as sns\n",
    "from sklearn.preprocessing import MinMaxScaler\n",
    "from sklearn.metrics import precision_score\n",
    "\n",
    "\n",
    "\n",
    "random.seed(1)"
   ]
  },
  {
   "cell_type": "code",
   "execution_count": 38,
   "metadata": {},
   "outputs": [],
   "source": [
    "df = pd.read_csv(\"btsusd.csv\")"
   ]
  },
  {
   "cell_type": "code",
   "execution_count": 39,
   "metadata": {},
   "outputs": [
    {
     "data": {
      "text/html": [
       "<div>\n",
       "<style scoped>\n",
       "    .dataframe tbody tr th:only-of-type {\n",
       "        vertical-align: middle;\n",
       "    }\n",
       "\n",
       "    .dataframe tbody tr th {\n",
       "        vertical-align: top;\n",
       "    }\n",
       "\n",
       "    .dataframe thead th {\n",
       "        text-align: right;\n",
       "    }\n",
       "</style>\n",
       "<table border=\"1\" class=\"dataframe\">\n",
       "  <thead>\n",
       "    <tr style=\"text-align: right;\">\n",
       "      <th></th>\n",
       "      <th>Timestamp</th>\n",
       "      <th>Open</th>\n",
       "      <th>High</th>\n",
       "      <th>Low</th>\n",
       "      <th>Close</th>\n",
       "      <th>Volume_(BTC)</th>\n",
       "      <th>Volume_(Currency)</th>\n",
       "      <th>Weighted_Price</th>\n",
       "    </tr>\n",
       "  </thead>\n",
       "  <tbody>\n",
       "    <tr>\n",
       "      <th>0</th>\n",
       "      <td>1325317920</td>\n",
       "      <td>4.39</td>\n",
       "      <td>4.39</td>\n",
       "      <td>4.39</td>\n",
       "      <td>4.39</td>\n",
       "      <td>0.455581</td>\n",
       "      <td>2.0</td>\n",
       "      <td>4.39</td>\n",
       "    </tr>\n",
       "    <tr>\n",
       "      <th>1</th>\n",
       "      <td>1325317980</td>\n",
       "      <td>NaN</td>\n",
       "      <td>NaN</td>\n",
       "      <td>NaN</td>\n",
       "      <td>NaN</td>\n",
       "      <td>NaN</td>\n",
       "      <td>NaN</td>\n",
       "      <td>NaN</td>\n",
       "    </tr>\n",
       "    <tr>\n",
       "      <th>2</th>\n",
       "      <td>1325318040</td>\n",
       "      <td>NaN</td>\n",
       "      <td>NaN</td>\n",
       "      <td>NaN</td>\n",
       "      <td>NaN</td>\n",
       "      <td>NaN</td>\n",
       "      <td>NaN</td>\n",
       "      <td>NaN</td>\n",
       "    </tr>\n",
       "    <tr>\n",
       "      <th>3</th>\n",
       "      <td>1325318100</td>\n",
       "      <td>NaN</td>\n",
       "      <td>NaN</td>\n",
       "      <td>NaN</td>\n",
       "      <td>NaN</td>\n",
       "      <td>NaN</td>\n",
       "      <td>NaN</td>\n",
       "      <td>NaN</td>\n",
       "    </tr>\n",
       "    <tr>\n",
       "      <th>4</th>\n",
       "      <td>1325318160</td>\n",
       "      <td>NaN</td>\n",
       "      <td>NaN</td>\n",
       "      <td>NaN</td>\n",
       "      <td>NaN</td>\n",
       "      <td>NaN</td>\n",
       "      <td>NaN</td>\n",
       "      <td>NaN</td>\n",
       "    </tr>\n",
       "  </tbody>\n",
       "</table>\n",
       "</div>"
      ],
      "text/plain": [
       "    Timestamp  Open  High   Low  Close  Volume_(BTC)  Volume_(Currency)  \\\n",
       "0  1325317920  4.39  4.39  4.39   4.39      0.455581                2.0   \n",
       "1  1325317980   NaN   NaN   NaN    NaN           NaN                NaN   \n",
       "2  1325318040   NaN   NaN   NaN    NaN           NaN                NaN   \n",
       "3  1325318100   NaN   NaN   NaN    NaN           NaN                NaN   \n",
       "4  1325318160   NaN   NaN   NaN    NaN           NaN                NaN   \n",
       "\n",
       "   Weighted_Price  \n",
       "0            4.39  \n",
       "1             NaN  \n",
       "2             NaN  \n",
       "3             NaN  \n",
       "4             NaN  "
      ]
     },
     "execution_count": 39,
     "metadata": {},
     "output_type": "execute_result"
    }
   ],
   "source": [
    "df.head()"
   ]
  },
  {
   "cell_type": "code",
   "execution_count": 46,
   "metadata": {},
   "outputs": [],
   "source": [
    "#добавляем столбцы от даты\n",
    "df[\"year\"] = pd.to_datetime(df[\"Timestamp\"], unit = \"s\").dt.year\n",
    "df[\"month\"] = pd.to_datetime(df[\"Timestamp\"], unit = \"s\").dt.month\n",
    "df[\"day\"] = pd.to_datetime(df[\"Timestamp\"], unit = \"s\").dt.day\n",
    "df[\"hour\"] = pd.to_datetime(df[\"Timestamp\"], unit = \"s\").dt.hour\n",
    "df[\"minute\"] = pd.to_datetime(df[\"Timestamp\"], unit = \"s\").dt.minute"
   ]
  },
  {
   "cell_type": "code",
   "execution_count": 5,
   "metadata": {},
   "outputs": [
    {
     "data": {
      "text/html": [
       "<div>\n",
       "<style scoped>\n",
       "    .dataframe tbody tr th:only-of-type {\n",
       "        vertical-align: middle;\n",
       "    }\n",
       "\n",
       "    .dataframe tbody tr th {\n",
       "        vertical-align: top;\n",
       "    }\n",
       "\n",
       "    .dataframe thead th {\n",
       "        text-align: right;\n",
       "    }\n",
       "</style>\n",
       "<table border=\"1\" class=\"dataframe\">\n",
       "  <thead>\n",
       "    <tr style=\"text-align: right;\">\n",
       "      <th></th>\n",
       "      <th>Timestamp</th>\n",
       "      <th>Open</th>\n",
       "      <th>High</th>\n",
       "      <th>Low</th>\n",
       "      <th>Close</th>\n",
       "      <th>Volume_(BTC)</th>\n",
       "      <th>Volume_(Currency)</th>\n",
       "      <th>Weighted_Price</th>\n",
       "      <th>year</th>\n",
       "      <th>month</th>\n",
       "      <th>day</th>\n",
       "      <th>hour</th>\n",
       "      <th>minute</th>\n",
       "    </tr>\n",
       "  </thead>\n",
       "  <tbody>\n",
       "    <tr>\n",
       "      <th>0</th>\n",
       "      <td>1325317920</td>\n",
       "      <td>4.39</td>\n",
       "      <td>4.39</td>\n",
       "      <td>4.39</td>\n",
       "      <td>4.39</td>\n",
       "      <td>0.455581</td>\n",
       "      <td>2.0</td>\n",
       "      <td>4.39</td>\n",
       "      <td>2011</td>\n",
       "      <td>12</td>\n",
       "      <td>31</td>\n",
       "      <td>7</td>\n",
       "      <td>52</td>\n",
       "    </tr>\n",
       "    <tr>\n",
       "      <th>1</th>\n",
       "      <td>1325317980</td>\n",
       "      <td>NaN</td>\n",
       "      <td>NaN</td>\n",
       "      <td>NaN</td>\n",
       "      <td>NaN</td>\n",
       "      <td>NaN</td>\n",
       "      <td>NaN</td>\n",
       "      <td>NaN</td>\n",
       "      <td>2011</td>\n",
       "      <td>12</td>\n",
       "      <td>31</td>\n",
       "      <td>7</td>\n",
       "      <td>53</td>\n",
       "    </tr>\n",
       "    <tr>\n",
       "      <th>2</th>\n",
       "      <td>1325318040</td>\n",
       "      <td>NaN</td>\n",
       "      <td>NaN</td>\n",
       "      <td>NaN</td>\n",
       "      <td>NaN</td>\n",
       "      <td>NaN</td>\n",
       "      <td>NaN</td>\n",
       "      <td>NaN</td>\n",
       "      <td>2011</td>\n",
       "      <td>12</td>\n",
       "      <td>31</td>\n",
       "      <td>7</td>\n",
       "      <td>54</td>\n",
       "    </tr>\n",
       "    <tr>\n",
       "      <th>3</th>\n",
       "      <td>1325318100</td>\n",
       "      <td>NaN</td>\n",
       "      <td>NaN</td>\n",
       "      <td>NaN</td>\n",
       "      <td>NaN</td>\n",
       "      <td>NaN</td>\n",
       "      <td>NaN</td>\n",
       "      <td>NaN</td>\n",
       "      <td>2011</td>\n",
       "      <td>12</td>\n",
       "      <td>31</td>\n",
       "      <td>7</td>\n",
       "      <td>55</td>\n",
       "    </tr>\n",
       "    <tr>\n",
       "      <th>4</th>\n",
       "      <td>1325318160</td>\n",
       "      <td>NaN</td>\n",
       "      <td>NaN</td>\n",
       "      <td>NaN</td>\n",
       "      <td>NaN</td>\n",
       "      <td>NaN</td>\n",
       "      <td>NaN</td>\n",
       "      <td>NaN</td>\n",
       "      <td>2011</td>\n",
       "      <td>12</td>\n",
       "      <td>31</td>\n",
       "      <td>7</td>\n",
       "      <td>56</td>\n",
       "    </tr>\n",
       "  </tbody>\n",
       "</table>\n",
       "</div>"
      ],
      "text/plain": [
       "    Timestamp  Open  High   Low  Close  Volume_(BTC)  Volume_(Currency)  \\\n",
       "0  1325317920  4.39  4.39  4.39   4.39      0.455581                2.0   \n",
       "1  1325317980   NaN   NaN   NaN    NaN           NaN                NaN   \n",
       "2  1325318040   NaN   NaN   NaN    NaN           NaN                NaN   \n",
       "3  1325318100   NaN   NaN   NaN    NaN           NaN                NaN   \n",
       "4  1325318160   NaN   NaN   NaN    NaN           NaN                NaN   \n",
       "\n",
       "   Weighted_Price  year  month  day  hour  minute  \n",
       "0            4.39  2011     12   31     7      52  \n",
       "1             NaN  2011     12   31     7      53  \n",
       "2             NaN  2011     12   31     7      54  \n",
       "3             NaN  2011     12   31     7      55  \n",
       "4             NaN  2011     12   31     7      56  "
      ]
     },
     "execution_count": 5,
     "metadata": {},
     "output_type": "execute_result"
    }
   ],
   "source": [
    "df.head()"
   ]
  },
  {
   "cell_type": "code",
   "execution_count": 50,
   "metadata": {},
   "outputs": [],
   "source": [
    "#убираем все данные до 2017 года из за малой информативности и другого поведения рынка\n",
    "df = df[df[\"year\"]>2016]"
   ]
  },
  {
   "cell_type": "code",
   "execution_count": 51,
   "metadata": {},
   "outputs": [],
   "source": [
    "df = df.dropna()"
   ]
  },
  {
   "cell_type": "code",
   "execution_count": 52,
   "metadata": {},
   "outputs": [],
   "source": [
    "df = df.drop(columns = \"Timestamp\")"
   ]
  },
  {
   "cell_type": "code",
   "execution_count": 53,
   "metadata": {},
   "outputs": [],
   "source": [
    "#добавляем столбец таргета, который говорит, подняласть ли цена более чем на 0.5% за минуту, или нет\n",
    "df[\"target\"] = ((df[\"High\"]-df[\"Open\"])/df[\"Open\"])>= 0.005"
   ]
  },
  {
   "cell_type": "code",
   "execution_count": 10,
   "metadata": {},
   "outputs": [],
   "source": [
    "#записываем индексы записей, когда цена поднялась больше чем на 0.5%\n",
    "indexes = []\n",
    "for index in range(df.shape[0]):\n",
    "    if df.iloc[index].target == True:\n",
    "        indexes.append(index)"
   ]
  },
  {
   "cell_type": "code",
   "execution_count": 11,
   "metadata": {},
   "outputs": [
    {
     "name": "stdout",
     "output_type": "stream",
     "text": [
      "16735\n"
     ]
    }
   ],
   "source": [
    "print(len(indexes))"
   ]
  },
  {
   "cell_type": "code",
   "execution_count": 12,
   "metadata": {},
   "outputs": [
    {
     "name": "stdout",
     "output_type": "stream",
     "text": [
      "20000\n"
     ]
    }
   ],
   "source": [
    "#задаем рандомные индексы, для того, чтобы в выборке были зачения таргета false. Рандомные, потому что значений true 0.8%\n",
    "false_indexes = []\n",
    "for i in range(20000):\n",
    "    false_indexes.append(random.randint(16,df.shape[0]))\n",
    "print(len(false_indexes))"
   ]
  },
  {
   "cell_type": "code",
   "execution_count": 13,
   "metadata": {},
   "outputs": [],
   "source": [
    "X = df.drop(columns = [\"year\",\"target\"])\n",
    "y = df.drop(columns = [\"Open\", \"High\", \"Low\", \"Close\", \"Volume_(BTC)\", \"Volume_(Currency)\", \"Weighted_Price\", \"year\", \"month\", \"day\", \"hour\", \"minute\"])"
   ]
  },
  {
   "cell_type": "code",
   "execution_count": 14,
   "metadata": {},
   "outputs": [
    {
     "data": {
      "text/plain": [
       "(1861137, 11)"
      ]
     },
     "execution_count": 14,
     "metadata": {},
     "output_type": "execute_result"
    }
   ],
   "source": [
    "X.shape"
   ]
  },
  {
   "cell_type": "code",
   "execution_count": 15,
   "metadata": {},
   "outputs": [
    {
     "data": {
      "text/html": [
       "<div>\n",
       "<style scoped>\n",
       "    .dataframe tbody tr th:only-of-type {\n",
       "        vertical-align: middle;\n",
       "    }\n",
       "\n",
       "    .dataframe tbody tr th {\n",
       "        vertical-align: top;\n",
       "    }\n",
       "\n",
       "    .dataframe thead th {\n",
       "        text-align: right;\n",
       "    }\n",
       "</style>\n",
       "<table border=\"1\" class=\"dataframe\">\n",
       "  <thead>\n",
       "    <tr style=\"text-align: right;\">\n",
       "      <th></th>\n",
       "      <th>Open</th>\n",
       "      <th>High</th>\n",
       "      <th>Low</th>\n",
       "      <th>Close</th>\n",
       "      <th>Volume_(BTC)</th>\n",
       "      <th>Volume_(Currency)</th>\n",
       "      <th>Weighted_Price</th>\n",
       "      <th>month</th>\n",
       "      <th>day</th>\n",
       "      <th>hour</th>\n",
       "      <th>minute</th>\n",
       "    </tr>\n",
       "  </thead>\n",
       "  <tbody>\n",
       "    <tr>\n",
       "      <th>2625377</th>\n",
       "      <td>966.34</td>\n",
       "      <td>966.34</td>\n",
       "      <td>966.34</td>\n",
       "      <td>966.34</td>\n",
       "      <td>7.610000</td>\n",
       "      <td>7353.847400</td>\n",
       "      <td>966.340000</td>\n",
       "      <td>1</td>\n",
       "      <td>1</td>\n",
       "      <td>0</td>\n",
       "      <td>1</td>\n",
       "    </tr>\n",
       "    <tr>\n",
       "      <th>2625378</th>\n",
       "      <td>966.16</td>\n",
       "      <td>966.37</td>\n",
       "      <td>966.16</td>\n",
       "      <td>966.37</td>\n",
       "      <td>8.087376</td>\n",
       "      <td>7814.876061</td>\n",
       "      <td>966.305479</td>\n",
       "      <td>1</td>\n",
       "      <td>1</td>\n",
       "      <td>0</td>\n",
       "      <td>2</td>\n",
       "    </tr>\n",
       "    <tr>\n",
       "      <th>2625381</th>\n",
       "      <td>966.43</td>\n",
       "      <td>966.43</td>\n",
       "      <td>966.43</td>\n",
       "      <td>966.43</td>\n",
       "      <td>0.107000</td>\n",
       "      <td>103.408010</td>\n",
       "      <td>966.430000</td>\n",
       "      <td>1</td>\n",
       "      <td>1</td>\n",
       "      <td>0</td>\n",
       "      <td>5</td>\n",
       "    </tr>\n",
       "    <tr>\n",
       "      <th>2625382</th>\n",
       "      <td>966.58</td>\n",
       "      <td>966.58</td>\n",
       "      <td>966.58</td>\n",
       "      <td>966.58</td>\n",
       "      <td>0.331732</td>\n",
       "      <td>320.645952</td>\n",
       "      <td>966.580000</td>\n",
       "      <td>1</td>\n",
       "      <td>1</td>\n",
       "      <td>0</td>\n",
       "      <td>6</td>\n",
       "    </tr>\n",
       "    <tr>\n",
       "      <th>2625386</th>\n",
       "      <td>966.57</td>\n",
       "      <td>966.57</td>\n",
       "      <td>966.57</td>\n",
       "      <td>966.57</td>\n",
       "      <td>0.695563</td>\n",
       "      <td>672.310754</td>\n",
       "      <td>966.570000</td>\n",
       "      <td>1</td>\n",
       "      <td>1</td>\n",
       "      <td>0</td>\n",
       "      <td>10</td>\n",
       "    </tr>\n",
       "  </tbody>\n",
       "</table>\n",
       "</div>"
      ],
      "text/plain": [
       "           Open    High     Low   Close  Volume_(BTC)  Volume_(Currency)  \\\n",
       "2625377  966.34  966.34  966.34  966.34      7.610000        7353.847400   \n",
       "2625378  966.16  966.37  966.16  966.37      8.087376        7814.876061   \n",
       "2625381  966.43  966.43  966.43  966.43      0.107000         103.408010   \n",
       "2625382  966.58  966.58  966.58  966.58      0.331732         320.645952   \n",
       "2625386  966.57  966.57  966.57  966.57      0.695563         672.310754   \n",
       "\n",
       "         Weighted_Price  month  day  hour  minute  \n",
       "2625377      966.340000      1    1     0       1  \n",
       "2625378      966.305479      1    1     0       2  \n",
       "2625381      966.430000      1    1     0       5  \n",
       "2625382      966.580000      1    1     0       6  \n",
       "2625386      966.570000      1    1     0      10  "
      ]
     },
     "execution_count": 15,
     "metadata": {},
     "output_type": "execute_result"
    }
   ],
   "source": [
    "X.head()"
   ]
  },
  {
   "cell_type": "code",
   "execution_count": 16,
   "metadata": {},
   "outputs": [
    {
     "data": {
      "text/plain": [
       "Index(['Open', 'High', 'Low', 'Close', 'Volume_(BTC)', 'Volume_(Currency)',\n",
       "       'Weighted_Price', 'month', 'day', 'hour', 'minute'],\n",
       "      dtype='object')"
      ]
     },
     "execution_count": 16,
     "metadata": {},
     "output_type": "execute_result"
    }
   ],
   "source": [
    "X.columns"
   ]
  },
  {
   "cell_type": "code",
   "execution_count": 17,
   "metadata": {},
   "outputs": [],
   "source": [
    "#стандартизируем данные для нейронной сети\n",
    "scaler = MinMaxScaler()\n",
    "X_new = scaler.fit_transform(X)"
   ]
  },
  {
   "cell_type": "code",
   "execution_count": 18,
   "metadata": {},
   "outputs": [],
   "source": [
    "X_new = pd.DataFrame(data = X_new, columns = X.columns)"
   ]
  },
  {
   "cell_type": "code",
   "execution_count": 19,
   "metadata": {},
   "outputs": [
    {
     "data": {
      "text/html": [
       "<div>\n",
       "<style scoped>\n",
       "    .dataframe tbody tr th:only-of-type {\n",
       "        vertical-align: middle;\n",
       "    }\n",
       "\n",
       "    .dataframe tbody tr th {\n",
       "        vertical-align: top;\n",
       "    }\n",
       "\n",
       "    .dataframe thead th {\n",
       "        text-align: right;\n",
       "    }\n",
       "</style>\n",
       "<table border=\"1\" class=\"dataframe\">\n",
       "  <thead>\n",
       "    <tr style=\"text-align: right;\">\n",
       "      <th></th>\n",
       "      <th>Open</th>\n",
       "      <th>High</th>\n",
       "      <th>Low</th>\n",
       "      <th>Close</th>\n",
       "      <th>Volume_(BTC)</th>\n",
       "      <th>Volume_(Currency)</th>\n",
       "      <th>Weighted_Price</th>\n",
       "      <th>month</th>\n",
       "      <th>day</th>\n",
       "      <th>hour</th>\n",
       "      <th>minute</th>\n",
       "    </tr>\n",
       "  </thead>\n",
       "  <tbody>\n",
       "    <tr>\n",
       "      <th>0</th>\n",
       "      <td>0.011332</td>\n",
       "      <td>0.011290</td>\n",
       "      <td>0.011376</td>\n",
       "      <td>0.011330</td>\n",
       "      <td>0.004709</td>\n",
       "      <td>0.000704</td>\n",
       "      <td>0.011334</td>\n",
       "      <td>0.0</td>\n",
       "      <td>0.0</td>\n",
       "      <td>0.0</td>\n",
       "      <td>0.016949</td>\n",
       "    </tr>\n",
       "    <tr>\n",
       "      <th>1</th>\n",
       "      <td>0.011323</td>\n",
       "      <td>0.011292</td>\n",
       "      <td>0.011367</td>\n",
       "      <td>0.011332</td>\n",
       "      <td>0.005004</td>\n",
       "      <td>0.000748</td>\n",
       "      <td>0.011332</td>\n",
       "      <td>0.0</td>\n",
       "      <td>0.0</td>\n",
       "      <td>0.0</td>\n",
       "      <td>0.033898</td>\n",
       "    </tr>\n",
       "    <tr>\n",
       "      <th>2</th>\n",
       "      <td>0.011337</td>\n",
       "      <td>0.011295</td>\n",
       "      <td>0.011381</td>\n",
       "      <td>0.011335</td>\n",
       "      <td>0.000066</td>\n",
       "      <td>0.000010</td>\n",
       "      <td>0.011339</td>\n",
       "      <td>0.0</td>\n",
       "      <td>0.0</td>\n",
       "      <td>0.0</td>\n",
       "      <td>0.084746</td>\n",
       "    </tr>\n",
       "    <tr>\n",
       "      <th>3</th>\n",
       "      <td>0.011345</td>\n",
       "      <td>0.011303</td>\n",
       "      <td>0.011389</td>\n",
       "      <td>0.011343</td>\n",
       "      <td>0.000205</td>\n",
       "      <td>0.000031</td>\n",
       "      <td>0.011347</td>\n",
       "      <td>0.0</td>\n",
       "      <td>0.0</td>\n",
       "      <td>0.0</td>\n",
       "      <td>0.101695</td>\n",
       "    </tr>\n",
       "    <tr>\n",
       "      <th>4</th>\n",
       "      <td>0.011345</td>\n",
       "      <td>0.011302</td>\n",
       "      <td>0.011389</td>\n",
       "      <td>0.011343</td>\n",
       "      <td>0.000430</td>\n",
       "      <td>0.000064</td>\n",
       "      <td>0.011346</td>\n",
       "      <td>0.0</td>\n",
       "      <td>0.0</td>\n",
       "      <td>0.0</td>\n",
       "      <td>0.169492</td>\n",
       "    </tr>\n",
       "  </tbody>\n",
       "</table>\n",
       "</div>"
      ],
      "text/plain": [
       "       Open      High       Low     Close  Volume_(BTC)  Volume_(Currency)  \\\n",
       "0  0.011332  0.011290  0.011376  0.011330      0.004709           0.000704   \n",
       "1  0.011323  0.011292  0.011367  0.011332      0.005004           0.000748   \n",
       "2  0.011337  0.011295  0.011381  0.011335      0.000066           0.000010   \n",
       "3  0.011345  0.011303  0.011389  0.011343      0.000205           0.000031   \n",
       "4  0.011345  0.011302  0.011389  0.011343      0.000430           0.000064   \n",
       "\n",
       "   Weighted_Price  month  day  hour    minute  \n",
       "0        0.011334    0.0  0.0   0.0  0.016949  \n",
       "1        0.011332    0.0  0.0   0.0  0.033898  \n",
       "2        0.011339    0.0  0.0   0.0  0.084746  \n",
       "3        0.011347    0.0  0.0   0.0  0.101695  \n",
       "4        0.011346    0.0  0.0   0.0  0.169492  "
      ]
     },
     "execution_count": 19,
     "metadata": {},
     "output_type": "execute_result"
    }
   ],
   "source": [
    "X_new.head()"
   ]
  },
  {
   "cell_type": "code",
   "execution_count": 20,
   "metadata": {},
   "outputs": [],
   "source": [
    "#определяем функцию, которая будет создавать датасет нужного формата для многомерного анализа временных рядов\n",
    "def create_dataset(dataframe, dataframe_y, indexes, look_back):\n",
    "    data = []\n",
    "    target = []\n",
    "    \n",
    "    for index in indexes:\n",
    "        data.append(np.array(dataframe.iloc[index-look_back:index].values))\n",
    "        target.append(dataframe_y.iloc[index].target)\n",
    "    return data,target"
   ]
  },
  {
   "cell_type": "code",
   "execution_count": 21,
   "metadata": {},
   "outputs": [],
   "source": [
    "X_true, y_true = create_dataset(X_new,y,indexes, 15)\n",
    "X_false, y_false = create_dataset(X_new, y, false_indexes, 15)"
   ]
  },
  {
   "cell_type": "code",
   "execution_count": 22,
   "metadata": {},
   "outputs": [
    {
     "name": "stdout",
     "output_type": "stream",
     "text": [
      "5020.5 6000.0\n",
      "16735 20000\n"
     ]
    }
   ],
   "source": [
    "print(len(X_true)*0.3, len(X_false)*0.3)\n",
    "print(len(X_true), len(X_false))"
   ]
  },
  {
   "cell_type": "code",
   "execution_count": 23,
   "metadata": {},
   "outputs": [],
   "source": [
    "#разбиваем на обучающуб, валидационную и тестовую выборки\n",
    "X_train = X_true[:11000] + X_false[:15000]\n",
    "y_train = y_true[:11000] + y_false[:15000]\n",
    "X_valid = X_true[11000:14000] + X_false[15000:18000]\n",
    "y_valid = y_true[11000:14000] + y_false[15000:18000]\n",
    "X_test = X_true[14000:] + X_false[18000:]\n",
    "y_test = y_true[14000:] + y_false[18000:]"
   ]
  },
  {
   "cell_type": "code",
   "execution_count": 24,
   "metadata": {},
   "outputs": [],
   "source": [
    "#приводим к нужному типу, размеру и формату\n",
    "X_train = np.array(X_train)\n",
    "X_valid = np.array(X_valid)\n",
    "X_test = np.array(X_test)\n",
    "y_train = np.array(y_train)\n",
    "y_test = np.array(y_test)\n",
    "y_valid = np.array(y_valid)"
   ]
  },
  {
   "cell_type": "code",
   "execution_count": 26,
   "metadata": {},
   "outputs": [],
   "source": [
    "X_train = np.reshape(X_train, (X_train.shape[0],15,11))\n",
    "X_valid = np.reshape(X_valid, (X_valid.shape[0],15,11))\n",
    "X_test = np.reshape(X_test, (X_test.shape[0],15,11))"
   ]
  },
  {
   "cell_type": "code",
   "execution_count": 27,
   "metadata": {},
   "outputs": [],
   "source": [
    "X_train = X_train.astype(\"float32\")\n",
    "X_valid = X_valid.astype(\"float32\")\n",
    "X_test = X_test.astype(\"float32\")"
   ]
  },
  {
   "cell_type": "code",
   "execution_count": 28,
   "metadata": {},
   "outputs": [],
   "source": [
    "#определяем колбеки, создаем модель, обучаем\n",
    "filepath = \"check.h5\"\n",
    "call = ModelCheckpoint(filepath, monitor = \"val_precision\", save_best_only = True, save_weights_only = True)\n",
    "\n",
    "call2 = EarlyStopping(\n",
    "    restore_best_weights = True,\n",
    "    min_delta = 1,\n",
    "    patience = 2\n",
    ")"
   ]
  },
  {
   "cell_type": "code",
   "execution_count": 29,
   "metadata": {},
   "outputs": [
    {
     "name": "stdout",
     "output_type": "stream",
     "text": [
      "Epoch 1/5\n",
      "813/813 [==============================] - 9s 11ms/step - loss: 0.4255 - precision: 0.7825 - binary_accuracy: 0.8081 - val_loss: 1.0836 - val_precision: 0.7518 - val_binary_accuracy: 0.6250\n",
      "Epoch 2/5\n",
      "813/813 [==============================] - 8s 10ms/step - loss: 0.3664 - precision: 0.8061 - binary_accuracy: 0.8376 - val_loss: 1.2675 - val_precision: 0.7759 - val_binary_accuracy: 0.6350\n",
      "Epoch 3/5\n",
      "813/813 [==============================] - 8s 9ms/step - loss: 0.3544 - precision: 0.8090 - binary_accuracy: 0.8418 - val_loss: 1.3514 - val_precision: 0.7181 - val_binary_accuracy: 0.5910\n",
      "Epoch 4/5\n",
      "813/813 [==============================] - 8s 10ms/step - loss: 0.3444 - precision: 0.8150 - binary_accuracy: 0.8476 - val_loss: 1.4723 - val_precision: 0.6658 - val_binary_accuracy: 0.5625\n",
      "Epoch 5/5\n",
      "813/813 [==============================] - 8s 9ms/step - loss: 0.3364 - precision: 0.8162 - binary_accuracy: 0.8518 - val_loss: 1.5175 - val_precision: 0.5921 - val_binary_accuracy: 0.5230\n"
     ]
    }
   ],
   "source": [
    "model = keras.Sequential([\n",
    "    layers.BatchNormalization(),\n",
    "    layers.LSTM(64, activation = \"relu\", input_shape = (15,11)),\n",
    "    layers.Dropout(rate = 0.3),\n",
    "    layers.Dense(1, activation = \"sigmoid\")\n",
    "])\n",
    "\n",
    "model.compile(\n",
    "    loss = \"binary_crossentropy\",\n",
    "    optimizer = \"adam\",\n",
    "    metrics = [\"Precision\", \"binary_accuracy\"]\n",
    ")\n",
    "\n",
    "history = model.fit(\n",
    "    X_train, y_train,\n",
    "    validation_data = (X_valid, y_valid),\n",
    "    batch_size = 32, epochs = 5,\n",
    "    callbacks = [call],\n",
    "    shuffle = True\n",
    ")"
   ]
  },
  {
   "cell_type": "code",
   "execution_count": 30,
   "metadata": {},
   "outputs": [
    {
     "name": "stdout",
     "output_type": "stream",
     "text": [
      "0.8414948453608248\n"
     ]
    }
   ],
   "source": [
    "#оцениваем лучшую модель на тестовом множестве\n",
    "pred = model.predict(X_test)\n",
    "res = []\n",
    "for i in pred:\n",
    "    if i>=0.5:\n",
    "        res.append(True)\n",
    "    else:\n",
    "        res.append(False)\n",
    "print(precision_score(y_test, res))"
   ]
  },
  {
   "cell_type": "code",
   "execution_count": 31,
   "metadata": {},
   "outputs": [
    {
     "name": "stdout",
     "output_type": "stream",
     "text": [
      "2756\n",
      "[1626.1714]\n"
     ]
    }
   ],
   "source": [
    "print(sum(y_test))\n",
    "print(sum(pred))"
   ]
  },
  {
   "cell_type": "code",
   "execution_count": 32,
   "metadata": {},
   "outputs": [],
   "source": [
    "history_df = pd.DataFrame(data = history.history)"
   ]
  },
  {
   "cell_type": "code",
   "execution_count": 33,
   "metadata": {
    "scrolled": true
   },
   "outputs": [
    {
     "data": {
      "text/html": [
       "<div>\n",
       "<style scoped>\n",
       "    .dataframe tbody tr th:only-of-type {\n",
       "        vertical-align: middle;\n",
       "    }\n",
       "\n",
       "    .dataframe tbody tr th {\n",
       "        vertical-align: top;\n",
       "    }\n",
       "\n",
       "    .dataframe thead th {\n",
       "        text-align: right;\n",
       "    }\n",
       "</style>\n",
       "<table border=\"1\" class=\"dataframe\">\n",
       "  <thead>\n",
       "    <tr style=\"text-align: right;\">\n",
       "      <th></th>\n",
       "      <th>loss</th>\n",
       "      <th>precision</th>\n",
       "      <th>binary_accuracy</th>\n",
       "      <th>val_loss</th>\n",
       "      <th>val_precision</th>\n",
       "      <th>val_binary_accuracy</th>\n",
       "    </tr>\n",
       "  </thead>\n",
       "  <tbody>\n",
       "    <tr>\n",
       "      <th>0</th>\n",
       "      <td>0.425534</td>\n",
       "      <td>0.782465</td>\n",
       "      <td>0.808077</td>\n",
       "      <td>1.083567</td>\n",
       "      <td>0.751787</td>\n",
       "      <td>0.6250</td>\n",
       "    </tr>\n",
       "    <tr>\n",
       "      <th>1</th>\n",
       "      <td>0.366432</td>\n",
       "      <td>0.806140</td>\n",
       "      <td>0.837577</td>\n",
       "      <td>1.267487</td>\n",
       "      <td>0.775942</td>\n",
       "      <td>0.6350</td>\n",
       "    </tr>\n",
       "    <tr>\n",
       "      <th>2</th>\n",
       "      <td>0.354394</td>\n",
       "      <td>0.808953</td>\n",
       "      <td>0.841846</td>\n",
       "      <td>1.351356</td>\n",
       "      <td>0.718105</td>\n",
       "      <td>0.5910</td>\n",
       "    </tr>\n",
       "    <tr>\n",
       "      <th>3</th>\n",
       "      <td>0.344403</td>\n",
       "      <td>0.815046</td>\n",
       "      <td>0.847577</td>\n",
       "      <td>1.472256</td>\n",
       "      <td>0.665837</td>\n",
       "      <td>0.5625</td>\n",
       "    </tr>\n",
       "    <tr>\n",
       "      <th>4</th>\n",
       "      <td>0.336412</td>\n",
       "      <td>0.816229</td>\n",
       "      <td>0.851846</td>\n",
       "      <td>1.517504</td>\n",
       "      <td>0.592090</td>\n",
       "      <td>0.5230</td>\n",
       "    </tr>\n",
       "  </tbody>\n",
       "</table>\n",
       "</div>"
      ],
      "text/plain": [
       "       loss  precision  binary_accuracy  val_loss  val_precision  \\\n",
       "0  0.425534   0.782465         0.808077  1.083567       0.751787   \n",
       "1  0.366432   0.806140         0.837577  1.267487       0.775942   \n",
       "2  0.354394   0.808953         0.841846  1.351356       0.718105   \n",
       "3  0.344403   0.815046         0.847577  1.472256       0.665837   \n",
       "4  0.336412   0.816229         0.851846  1.517504       0.592090   \n",
       "\n",
       "   val_binary_accuracy  \n",
       "0               0.6250  \n",
       "1               0.6350  \n",
       "2               0.5910  \n",
       "3               0.5625  \n",
       "4               0.5230  "
      ]
     },
     "execution_count": 33,
     "metadata": {},
     "output_type": "execute_result"
    }
   ],
   "source": [
    "history_df.head()"
   ]
  },
  {
   "cell_type": "code",
   "execution_count": 34,
   "metadata": {},
   "outputs": [
    {
     "data": {
      "image/png": "[encoded data removed]",
      "text/plain": [
       "<Figure size 432x432 with 1 Axes>"
      ]
     },
     "metadata": {
      "needs_background": "light"
     },
     "output_type": "display_data"
    }
   ],
   "source": [
    "plt.figure(figsize = (6,6))\n",
    "sns.lineplot(data = history_df[\"val_precision\"], label = \"val_precision\")\n",
    "sns.lineplot(data = history_df[\"precision\"], label = \"precision\")\n",
    "plt.show()"
   ]
  },
  {
   "cell_type": "code",
   "execution_count": 56,
   "metadata": {},
   "outputs": [],
   "source": [
    "#итого модель показывает 84.1% precision\n",
    "#следовательно, из всех наших сделок, в которые мы будем входить, 84.1 будут плюсовые"
   ]
  },
  {
   "cell_type": "code",
   "execution_count": null,
   "metadata": {},
   "outputs": [],
   "source": []
  }
 ],
 "metadata": {
  "kernelspec": {
   "display_name": "Python 3",
   "language": "python",
   "name": "python3"
  },
  "language_info": {
   "codemirror_mode": {
    "name": "ipython",
    "version": 3
   },
   "file_extension": ".py",
   "mimetype": "text/x-python",
   "name": "python",
   "nbconvert_exporter": "python",
   "pygments_lexer": "ipython3",
   "version": "3.8.6"
  }
 },
 "nbformat": 4,
 "nbformat_minor": 4
}
