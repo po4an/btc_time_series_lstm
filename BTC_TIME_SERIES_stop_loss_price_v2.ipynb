{
 "cells": [
  {
   "cell_type": "markdown",
   "metadata": {},
   "source": [
    "Посмотрим поведение цены за минуту, когда цена хая больше 0.5% от цены открытия.\n",
    "\n",
    "Найдем цену стоп лосса в проценатах от цены открытия, чтобы мат ожидание модели было максимальным"
   ]
  },
  {
   "cell_type": "code",
   "execution_count": 1,
   "metadata": {},
   "outputs": [],
   "source": [
    "import pandas as pd\n",
    "import numpy as np\n",
    "import matplotlib.pyplot as plt\n",
    "import seaborn as sns"
   ]
  },
  {
   "cell_type": "code",
   "execution_count": 3,
   "metadata": {},
   "outputs": [],
   "source": [
    "df = pd.read_csv(\"binance_btcusd.csv\")"
   ]
  },
  {
   "cell_type": "code",
   "execution_count": 4,
   "metadata": {},
   "outputs": [
    {
     "data": {
      "text/html": [
       "<div>\n",
       "<style scoped>\n",
       "    .dataframe tbody tr th:only-of-type {\n",
       "        vertical-align: middle;\n",
       "    }\n",
       "\n",
       "    .dataframe tbody tr th {\n",
       "        vertical-align: top;\n",
       "    }\n",
       "\n",
       "    .dataframe thead th {\n",
       "        text-align: right;\n",
       "    }\n",
       "</style>\n",
       "<table border=\"1\" class=\"dataframe\">\n",
       "  <thead>\n",
       "    <tr style=\"text-align: right;\">\n",
       "      <th></th>\n",
       "      <th>Unnamed: 0</th>\n",
       "      <th>0</th>\n",
       "      <th>1</th>\n",
       "      <th>2</th>\n",
       "      <th>3</th>\n",
       "      <th>4</th>\n",
       "      <th>5</th>\n",
       "      <th>6</th>\n",
       "      <th>7</th>\n",
       "      <th>8</th>\n",
       "      <th>9</th>\n",
       "      <th>10</th>\n",
       "      <th>11</th>\n",
       "    </tr>\n",
       "  </thead>\n",
       "  <tbody>\n",
       "    <tr>\n",
       "      <th>0</th>\n",
       "      <td>0</td>\n",
       "      <td>1596229260000</td>\n",
       "      <td>11322.05</td>\n",
       "      <td>11323.02</td>\n",
       "      <td>11294.00</td>\n",
       "      <td>11297.15</td>\n",
       "      <td>75.471279</td>\n",
       "      <td>1596229319999</td>\n",
       "      <td>8.534482e+05</td>\n",
       "      <td>1200</td>\n",
       "      <td>24.872009</td>\n",
       "      <td>281269.304392</td>\n",
       "      <td>0</td>\n",
       "    </tr>\n",
       "    <tr>\n",
       "      <th>1</th>\n",
       "      <td>1</td>\n",
       "      <td>1596229320000</td>\n",
       "      <td>11298.56</td>\n",
       "      <td>11332.02</td>\n",
       "      <td>11297.07</td>\n",
       "      <td>11330.86</td>\n",
       "      <td>57.373999</td>\n",
       "      <td>1596229379999</td>\n",
       "      <td>6.492224e+05</td>\n",
       "      <td>1486</td>\n",
       "      <td>36.822923</td>\n",
       "      <td>416647.500196</td>\n",
       "      <td>0</td>\n",
       "    </tr>\n",
       "    <tr>\n",
       "      <th>2</th>\n",
       "      <td>2</td>\n",
       "      <td>1596229380000</td>\n",
       "      <td>11331.09</td>\n",
       "      <td>11350.06</td>\n",
       "      <td>11330.86</td>\n",
       "      <td>11347.44</td>\n",
       "      <td>76.438368</td>\n",
       "      <td>1596229439999</td>\n",
       "      <td>8.670462e+05</td>\n",
       "      <td>1114</td>\n",
       "      <td>59.610735</td>\n",
       "      <td>676161.703455</td>\n",
       "      <td>0</td>\n",
       "    </tr>\n",
       "    <tr>\n",
       "      <th>3</th>\n",
       "      <td>3</td>\n",
       "      <td>1596229440000</td>\n",
       "      <td>11347.44</td>\n",
       "      <td>11365.28</td>\n",
       "      <td>11347.44</td>\n",
       "      <td>11363.27</td>\n",
       "      <td>90.757347</td>\n",
       "      <td>1596229499999</td>\n",
       "      <td>1.030781e+06</td>\n",
       "      <td>1130</td>\n",
       "      <td>52.535249</td>\n",
       "      <td>596693.051054</td>\n",
       "      <td>0</td>\n",
       "    </tr>\n",
       "    <tr>\n",
       "      <th>4</th>\n",
       "      <td>4</td>\n",
       "      <td>1596229500000</td>\n",
       "      <td>11363.46</td>\n",
       "      <td>11365.52</td>\n",
       "      <td>11363.27</td>\n",
       "      <td>11364.08</td>\n",
       "      <td>21.991909</td>\n",
       "      <td>1596229559999</td>\n",
       "      <td>2.499153e+05</td>\n",
       "      <td>332</td>\n",
       "      <td>4.848286</td>\n",
       "      <td>55096.556460</td>\n",
       "      <td>0</td>\n",
       "    </tr>\n",
       "  </tbody>\n",
       "</table>\n",
       "</div>"
      ],
      "text/plain": [
       "   Unnamed: 0              0         1         2         3         4  \\\n",
       "0           0  1596229260000  11322.05  11323.02  11294.00  11297.15   \n",
       "1           1  1596229320000  11298.56  11332.02  11297.07  11330.86   \n",
       "2           2  1596229380000  11331.09  11350.06  11330.86  11347.44   \n",
       "3           3  1596229440000  11347.44  11365.28  11347.44  11363.27   \n",
       "4           4  1596229500000  11363.46  11365.52  11363.27  11364.08   \n",
       "\n",
       "           5              6             7     8          9             10  11  \n",
       "0  75.471279  1596229319999  8.534482e+05  1200  24.872009  281269.304392   0  \n",
       "1  57.373999  1596229379999  6.492224e+05  1486  36.822923  416647.500196   0  \n",
       "2  76.438368  1596229439999  8.670462e+05  1114  59.610735  676161.703455   0  \n",
       "3  90.757347  1596229499999  1.030781e+06  1130  52.535249  596693.051054   0  \n",
       "4  21.991909  1596229559999  2.499153e+05   332   4.848286   55096.556460   0  "
      ]
     },
     "execution_count": 4,
     "metadata": {},
     "output_type": "execute_result"
    }
   ],
   "source": [
    "df.head()"
   ]
  },
  {
   "cell_type": "code",
   "execution_count": 5,
   "metadata": {},
   "outputs": [],
   "source": [
    "#добавляем столбец с таргетом, который говорит, поднялась ли цена более чем на 0.5% за эту минуту, или нет\n",
    "df[\"target\"] = ((df[\"2\"]-df[\"1\"])/df[\"1\"])>=0.005"
   ]
  },
  {
   "cell_type": "code",
   "execution_count": 6,
   "metadata": {},
   "outputs": [
    {
     "data": {
      "text/plain": [
       "1733"
      ]
     },
     "execution_count": 6,
     "metadata": {},
     "output_type": "execute_result"
    }
   ],
   "source": [
    "df.target.sum()"
   ]
  },
  {
   "cell_type": "code",
   "execution_count": 8,
   "metadata": {},
   "outputs": [],
   "source": [
    "true_df = df[df[\"target\"]==True]"
   ]
  },
  {
   "cell_type": "markdown",
   "metadata": {},
   "source": [
    "изучим значения Low столбца для наших положительних записей\n",
    "\n",
    "а точнее, процентное отклонение Low цены от цены открытия"
   ]
  },
  {
   "cell_type": "code",
   "execution_count": 9,
   "metadata": {},
   "outputs": [
    {
     "name": "stderr",
     "output_type": "stream",
     "text": [
      "<ipython-input-9-6b2a6f6fcfea>:2: SettingWithCopyWarning: \n",
      "A value is trying to be set on a copy of a slice from a DataFrame.\n",
      "Try using .loc[row_indexer,col_indexer] = value instead\n",
      "\n",
      "See the caveats in the documentation: https://pandas.pydata.org/pandas-docs/stable/user_guide/indexing.html#returning-a-view-versus-a-copy\n",
      "  true_df[\"low_percent\"] = (true_df[\"1\"]-true_df[\"3\"])/true_df[\"1\"]\n"
     ]
    }
   ],
   "source": [
    "#добавим столбец процентного отклонения\n",
    "true_df[\"low_percent\"] = (true_df[\"1\"]-true_df[\"3\"])/true_df[\"1\"]"
   ]
  },
  {
   "cell_type": "code",
   "execution_count": 10,
   "metadata": {},
   "outputs": [
    {
     "data": {
      "text/html": [
       "<div>\n",
       "<style scoped>\n",
       "    .dataframe tbody tr th:only-of-type {\n",
       "        vertical-align: middle;\n",
       "    }\n",
       "\n",
       "    .dataframe tbody tr th {\n",
       "        vertical-align: top;\n",
       "    }\n",
       "\n",
       "    .dataframe thead th {\n",
       "        text-align: right;\n",
       "    }\n",
       "</style>\n",
       "<table border=\"1\" class=\"dataframe\">\n",
       "  <thead>\n",
       "    <tr style=\"text-align: right;\">\n",
       "      <th></th>\n",
       "      <th>Unnamed: 0</th>\n",
       "      <th>0</th>\n",
       "      <th>1</th>\n",
       "      <th>2</th>\n",
       "      <th>3</th>\n",
       "      <th>4</th>\n",
       "      <th>5</th>\n",
       "      <th>6</th>\n",
       "      <th>7</th>\n",
       "      <th>8</th>\n",
       "      <th>9</th>\n",
       "      <th>10</th>\n",
       "      <th>11</th>\n",
       "      <th>target</th>\n",
       "      <th>low_percent</th>\n",
       "    </tr>\n",
       "  </thead>\n",
       "  <tbody>\n",
       "    <tr>\n",
       "      <th>1899</th>\n",
       "      <td>1899</td>\n",
       "      <td>1596343200000</td>\n",
       "      <td>11295.85</td>\n",
       "      <td>11371.40</td>\n",
       "      <td>10911.00</td>\n",
       "      <td>10927.00</td>\n",
       "      <td>1171.306842</td>\n",
       "      <td>1596343259999</td>\n",
       "      <td>1.301374e+07</td>\n",
       "      <td>11767</td>\n",
       "      <td>316.198934</td>\n",
       "      <td>3.533823e+06</td>\n",
       "      <td>0</td>\n",
       "      <td>True</td>\n",
       "      <td>0.034070</td>\n",
       "    </tr>\n",
       "    <tr>\n",
       "      <th>1900</th>\n",
       "      <td>1900</td>\n",
       "      <td>1596343260000</td>\n",
       "      <td>10927.00</td>\n",
       "      <td>11020.07</td>\n",
       "      <td>10750.00</td>\n",
       "      <td>10750.00</td>\n",
       "      <td>1473.768758</td>\n",
       "      <td>1596343319999</td>\n",
       "      <td>1.602194e+07</td>\n",
       "      <td>12215</td>\n",
       "      <td>470.727806</td>\n",
       "      <td>5.124835e+06</td>\n",
       "      <td>0</td>\n",
       "      <td>True</td>\n",
       "      <td>0.016198</td>\n",
       "    </tr>\n",
       "    <tr>\n",
       "      <th>1902</th>\n",
       "      <td>1902</td>\n",
       "      <td>1596343380000</td>\n",
       "      <td>10701.52</td>\n",
       "      <td>11100.01</td>\n",
       "      <td>10670.00</td>\n",
       "      <td>10938.77</td>\n",
       "      <td>885.878473</td>\n",
       "      <td>1596343439999</td>\n",
       "      <td>9.640333e+06</td>\n",
       "      <td>9922</td>\n",
       "      <td>456.538610</td>\n",
       "      <td>4.979123e+06</td>\n",
       "      <td>0</td>\n",
       "      <td>True</td>\n",
       "      <td>0.002945</td>\n",
       "    </tr>\n",
       "    <tr>\n",
       "      <th>1903</th>\n",
       "      <td>1903</td>\n",
       "      <td>1596343440000</td>\n",
       "      <td>10938.77</td>\n",
       "      <td>11091.08</td>\n",
       "      <td>10923.00</td>\n",
       "      <td>11020.69</td>\n",
       "      <td>596.786709</td>\n",
       "      <td>1596343499999</td>\n",
       "      <td>6.551693e+06</td>\n",
       "      <td>7215</td>\n",
       "      <td>261.523056</td>\n",
       "      <td>2.874253e+06</td>\n",
       "      <td>0</td>\n",
       "      <td>True</td>\n",
       "      <td>0.001442</td>\n",
       "    </tr>\n",
       "    <tr>\n",
       "      <th>1905</th>\n",
       "      <td>1905</td>\n",
       "      <td>1596343560000</td>\n",
       "      <td>10983.45</td>\n",
       "      <td>11117.50</td>\n",
       "      <td>10978.22</td>\n",
       "      <td>11057.23</td>\n",
       "      <td>569.300754</td>\n",
       "      <td>1596343619999</td>\n",
       "      <td>6.300463e+06</td>\n",
       "      <td>6554</td>\n",
       "      <td>313.109751</td>\n",
       "      <td>3.466652e+06</td>\n",
       "      <td>0</td>\n",
       "      <td>True</td>\n",
       "      <td>0.000476</td>\n",
       "    </tr>\n",
       "    <tr>\n",
       "      <th>...</th>\n",
       "      <td>...</td>\n",
       "      <td>...</td>\n",
       "      <td>...</td>\n",
       "      <td>...</td>\n",
       "      <td>...</td>\n",
       "      <td>...</td>\n",
       "      <td>...</td>\n",
       "      <td>...</td>\n",
       "      <td>...</td>\n",
       "      <td>...</td>\n",
       "      <td>...</td>\n",
       "      <td>...</td>\n",
       "      <td>...</td>\n",
       "      <td>...</td>\n",
       "      <td>...</td>\n",
       "    </tr>\n",
       "    <tr>\n",
       "      <th>268045</th>\n",
       "      <td>268045</td>\n",
       "      <td>1612311960000</td>\n",
       "      <td>35929.30</td>\n",
       "      <td>36150.00</td>\n",
       "      <td>35928.77</td>\n",
       "      <td>36141.05</td>\n",
       "      <td>460.537214</td>\n",
       "      <td>1612312019999</td>\n",
       "      <td>1.659600e+07</td>\n",
       "      <td>8242</td>\n",
       "      <td>354.266329</td>\n",
       "      <td>1.276399e+07</td>\n",
       "      <td>0</td>\n",
       "      <td>True</td>\n",
       "      <td>0.000015</td>\n",
       "    </tr>\n",
       "    <tr>\n",
       "      <th>268299</th>\n",
       "      <td>268299</td>\n",
       "      <td>1612327200000</td>\n",
       "      <td>36544.71</td>\n",
       "      <td>36845.00</td>\n",
       "      <td>36541.19</td>\n",
       "      <td>36809.81</td>\n",
       "      <td>298.169070</td>\n",
       "      <td>1612327259999</td>\n",
       "      <td>1.094859e+07</td>\n",
       "      <td>5825</td>\n",
       "      <td>185.590431</td>\n",
       "      <td>6.812420e+06</td>\n",
       "      <td>0</td>\n",
       "      <td>True</td>\n",
       "      <td>0.000096</td>\n",
       "    </tr>\n",
       "    <tr>\n",
       "      <th>268748</th>\n",
       "      <td>268748</td>\n",
       "      <td>1612354140000</td>\n",
       "      <td>35895.27</td>\n",
       "      <td>36122.18</td>\n",
       "      <td>35865.91</td>\n",
       "      <td>36090.92</td>\n",
       "      <td>93.755908</td>\n",
       "      <td>1612354199999</td>\n",
       "      <td>3.374175e+06</td>\n",
       "      <td>2497</td>\n",
       "      <td>65.513883</td>\n",
       "      <td>2.357933e+06</td>\n",
       "      <td>0</td>\n",
       "      <td>True</td>\n",
       "      <td>0.000818</td>\n",
       "    </tr>\n",
       "    <tr>\n",
       "      <th>268808</th>\n",
       "      <td>268808</td>\n",
       "      <td>1612357740000</td>\n",
       "      <td>36126.33</td>\n",
       "      <td>36331.88</td>\n",
       "      <td>36123.45</td>\n",
       "      <td>36315.85</td>\n",
       "      <td>148.999537</td>\n",
       "      <td>1612357799999</td>\n",
       "      <td>5.399883e+06</td>\n",
       "      <td>3081</td>\n",
       "      <td>107.243884</td>\n",
       "      <td>3.886756e+06</td>\n",
       "      <td>0</td>\n",
       "      <td>True</td>\n",
       "      <td>0.000080</td>\n",
       "    </tr>\n",
       "    <tr>\n",
       "      <th>268982</th>\n",
       "      <td>268982</td>\n",
       "      <td>1612368180000</td>\n",
       "      <td>36822.04</td>\n",
       "      <td>37048.04</td>\n",
       "      <td>36810.00</td>\n",
       "      <td>37048.04</td>\n",
       "      <td>426.443249</td>\n",
       "      <td>1612368239999</td>\n",
       "      <td>1.577248e+07</td>\n",
       "      <td>7061</td>\n",
       "      <td>363.278297</td>\n",
       "      <td>1.343871e+07</td>\n",
       "      <td>0</td>\n",
       "      <td>True</td>\n",
       "      <td>0.000327</td>\n",
       "    </tr>\n",
       "  </tbody>\n",
       "</table>\n",
       "<p>1733 rows × 15 columns</p>\n",
       "</div>"
      ],
      "text/plain": [
       "        Unnamed: 0              0         1         2         3         4  \\\n",
       "1899          1899  1596343200000  11295.85  11371.40  10911.00  10927.00   \n",
       "1900          1900  1596343260000  10927.00  11020.07  10750.00  10750.00   \n",
       "1902          1902  1596343380000  10701.52  11100.01  10670.00  10938.77   \n",
       "1903          1903  1596343440000  10938.77  11091.08  10923.00  11020.69   \n",
       "1905          1905  1596343560000  10983.45  11117.50  10978.22  11057.23   \n",
       "...            ...            ...       ...       ...       ...       ...   \n",
       "268045      268045  1612311960000  35929.30  36150.00  35928.77  36141.05   \n",
       "268299      268299  1612327200000  36544.71  36845.00  36541.19  36809.81   \n",
       "268748      268748  1612354140000  35895.27  36122.18  35865.91  36090.92   \n",
       "268808      268808  1612357740000  36126.33  36331.88  36123.45  36315.85   \n",
       "268982      268982  1612368180000  36822.04  37048.04  36810.00  37048.04   \n",
       "\n",
       "                  5              6             7      8           9  \\\n",
       "1899    1171.306842  1596343259999  1.301374e+07  11767  316.198934   \n",
       "1900    1473.768758  1596343319999  1.602194e+07  12215  470.727806   \n",
       "1902     885.878473  1596343439999  9.640333e+06   9922  456.538610   \n",
       "1903     596.786709  1596343499999  6.551693e+06   7215  261.523056   \n",
       "1905     569.300754  1596343619999  6.300463e+06   6554  313.109751   \n",
       "...             ...            ...           ...    ...         ...   \n",
       "268045   460.537214  1612312019999  1.659600e+07   8242  354.266329   \n",
       "268299   298.169070  1612327259999  1.094859e+07   5825  185.590431   \n",
       "268748    93.755908  1612354199999  3.374175e+06   2497   65.513883   \n",
       "268808   148.999537  1612357799999  5.399883e+06   3081  107.243884   \n",
       "268982   426.443249  1612368239999  1.577248e+07   7061  363.278297   \n",
       "\n",
       "                  10  11  target  low_percent  \n",
       "1899    3.533823e+06   0    True     0.034070  \n",
       "1900    5.124835e+06   0    True     0.016198  \n",
       "1902    4.979123e+06   0    True     0.002945  \n",
       "1903    2.874253e+06   0    True     0.001442  \n",
       "1905    3.466652e+06   0    True     0.000476  \n",
       "...              ...  ..     ...          ...  \n",
       "268045  1.276399e+07   0    True     0.000015  \n",
       "268299  6.812420e+06   0    True     0.000096  \n",
       "268748  2.357933e+06   0    True     0.000818  \n",
       "268808  3.886756e+06   0    True     0.000080  \n",
       "268982  1.343871e+07   0    True     0.000327  \n",
       "\n",
       "[1733 rows x 15 columns]"
      ]
     },
     "execution_count": 10,
     "metadata": {},
     "output_type": "execute_result"
    }
   ],
   "source": [
    "true_df"
   ]
  },
  {
   "cell_type": "code",
   "execution_count": 11,
   "metadata": {},
   "outputs": [
    {
     "name": "stderr",
     "output_type": "stream",
     "text": [
      "c:\\users\\grish\\pycharmprojects\\testtest\\venv1\\lib\\site-packages\\seaborn\\distributions.py:2551: FutureWarning: `distplot` is a deprecated function and will be removed in a future version. Please adapt your code to use either `displot` (a figure-level function with similar flexibility) or `histplot` (an axes-level function for histograms).\n",
      "  warnings.warn(msg, FutureWarning)\n"
     ]
    },
    {
     "data": {
      "image/png": "[encoded data removed]",
      "text/plain": [
       "<Figure size 1080x360 with 2 Axes>"
      ]
     },
     "metadata": {
      "needs_background": "light"
     },
     "output_type": "display_data"
    }
   ],
   "source": [
    "fig, axes = plt.subplots(1,2,figsize = (15,5))\n",
    "fig.suptitle(\"анализ Low цены для положительных записей\")\n",
    "\n",
    "sns.boxplot(ax =axes[0], x = true_df[\"low_percent\"])\n",
    "axes[0].set_title(\"выбросы\")\n",
    "\n",
    "sns.distplot(ax = axes[1], x = true_df[\"low_percent\"])\n",
    "axes[1].set_title(\"распределение\")\n",
    "\n",
    "plt.show()"
   ]
  },
  {
   "cell_type": "markdown",
   "metadata": {},
   "source": [
    "надо найти тот процент закрытия сделки, который принесет нам максимальную прибыль\n",
    "\n",
    "мы имеем модель с 40% точностью определяющую возрастание цены в след минуту\n",
    "\n",
    "будем идти по процентилем и смотреть на мат ожидание каждого варианта цены закрытия"
   ]
  },
  {
   "cell_type": "code",
   "execution_count": 12,
   "metadata": {},
   "outputs": [],
   "source": [
    "percentiles = np.arange(50,101,5)"
   ]
  },
  {
   "cell_type": "code",
   "execution_count": 13,
   "metadata": {},
   "outputs": [
    {
     "name": "stdout",
     "output_type": "stream",
     "text": [
      "[(50, 0.00039136497783923466), (55, 0.0004661738520728945), (60, 0.0005792036787916054), (65, 0.0007295500933684723), (70, 0.0008845674476784682), (75, 0.0011145710568332301), (80, 0.0014006047366560334), (85, 0.0018154319885696664), (90, 0.0026387600551588154), (95, 0.004161301009635722), (100, 0.035962071337863756)]\n"
     ]
    }
   ],
   "source": [
    "percentiles_list = [(percent, np.percentile(true_df[\"low_percent\"], percent)) for percent in percentiles]\n",
    "print(percentiles_list)"
   ]
  },
  {
   "cell_type": "markdown",
   "metadata": {},
   "source": [
    "Для тестов возьмем все эти значения стоп лосс цен"
   ]
  },
  {
   "cell_type": "markdown",
   "metadata": {},
   "source": [
    "Пояснения:\n",
    "\n",
    "    процентиль 60,допустим, означает, что мы ставим стоп лосс цену на 0.0004244% от цены открытия,\n",
    "    а также отсекаем 40% потенциально плюсовых сделок"
   ]
  },
  {
   "cell_type": "markdown",
   "metadata": {},
   "source": [
    "Получается, из всех предсказаных моделью положительных сделок, 40 будут истинно верны\n",
    "\n",
    "Соответственно, в 40% будут приносить по 0.5% от ставки, а остальные 60% будут закрыты по стоп лосс цене\n",
    "\n",
    "Но, из этих 40% лишь число процентиля будет приносить выгоду, а остальные проценты также будут закрыты по стоп лоссу\n",
    "\n",
    "Давайте рассчитаем нашу прибыль за, допустим, n входов в сделку(модель n раз определила, что за следующую минуту \n",
    "                                                                 цена вырастет более чем на 0.5%)\n",
    "\n",
    "Пометка: прибылью в примере будем считать ровно 0.5% от сделки, хотя на практике за минуту цена может подскачить более, чем на 0.5%"
   ]
  },
  {
   "cell_type": "code",
   "execution_count": 14,
   "metadata": {},
   "outputs": [],
   "source": [
    "#определим функцию и применим ее к нашим тестовым стоп лоссам и процентилем\n",
    "def stonks(min_profit,percentile, stop_loss, n_sdelok):\n",
    "    minus_1 = 0.60*stop_loss\n",
    "    minus_2 = 0.40*((100-percentile)/100)*stop_loss\n",
    "    plus_1 = 0.40*(percentile/100)*min_profit\n",
    "    \n",
    "    return f\"итоговый профит от {n_sdelok} сделок : {(minus_1+minus_2+plus_1)*n_sdelok} со стоп лоссом {stop_loss} и процентом отсечения {100-percentile}\""
   ]
  },
  {
   "cell_type": "code",
   "execution_count": 15,
   "metadata": {},
   "outputs": [
    {
     "name": "stdout",
     "output_type": "stream",
     "text": [
      "итоговый профит от 100 сделок : 0.13130919822713877 со стоп лоссом 0.00039136497783923466 и процентом отсечения 50\n",
      "итоговый профит от 100 сделок : 0.14636156046168577 со стоп лоссом 0.0004661738520728945 и процентом отсечения 45\n",
      "итоговый профит от 100 сделок : 0.164019479588162 со стоп лоссом 0.0005792036787916054 и процентом отсечения 40\n",
      "итоговый профит от 100 сделок : 0.18398670690926697 со стоп лоссом 0.0007295500933684723 и процентом отсечения 35\n",
      "итоговый профит от 100 сделок : 0.20368885623284969 со стоп лоссом 0.0008845674476784682 и процентом отсечения 30\n",
      "итоговый профит от 100 сделок : 0.22801997397832613 со стоп лоссом 0.0011145710568332301 и процентом отсечения 25\n",
      "итоговый профит от 100 сделок : 0.2552411220926103 со стоп лоссом 0.0014006047366560334 и процентом отсечения 20\n",
      "итоговый профит от 100 сделок : 0.289818511245598 со стоп лоссом 0.0018154319885696664 и процентом отсечения 15\n",
      "итоговый профит от 100 сделок : 0.3488806435301642 со стоп лоссом 0.0026387600551588154 и процентом отсечения 10\n",
      "итоговый профит от 100 сделок : 0.4480006625974147 со стоп лоссом 0.004161301009635722 и процентом отсечения 5\n",
      "итоговый профит от 100 сделок : 2.357724280271825 со стоп лоссом 0.035962071337863756 и процентом отсечения 0\n"
     ]
    }
   ],
   "source": [
    "for i in percentiles_list:\n",
    "    print(stonks(0.005,i[0],i[1],100))"
   ]
  },
  {
   "cell_type": "markdown",
   "metadata": {},
   "source": [
    "По результатам лучшее мат ожидание модели при стоп лоссе 3.5% от цены открытия. Или, другими словами, отсутствие стоп лосса, поскольку 3.5% - это макс отклонение из выборки.\n",
    "\n",
    "Но, как по мне, это большой риск. Для первых тестов модели сделаем стоп лосс на 0.42% и процентом отсечения 5"
   ]
  },
  {
   "cell_type": "code",
   "execution_count": null,
   "metadata": {},
   "outputs": [],
   "source": []
  }
 ],
 "metadata": {
  "kernelspec": {
   "display_name": "Python 3",
   "language": "python",
   "name": "python3"
  },
  "language_info": {
   "codemirror_mode": {
    "name": "ipython",
    "version": 3
   },
   "file_extension": ".py",
   "mimetype": "text/x-python",
   "name": "python",
   "nbconvert_exporter": "python",
   "pygments_lexer": "ipython3",
   "version": "3.8.6"
  }
 },
 "nbformat": 4,
 "nbformat_minor": 4
}
