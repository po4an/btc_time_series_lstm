{
 "cells": [
  {
   "cell_type": "code",
   "execution_count": 1,
   "metadata": {},
   "outputs": [],
   "source": [
    "import pandas as pd\n",
    "import numpy as np\n",
    "from utils import convert\n",
    "from config import api_key, secret_key\n",
    "import time\n",
    "from binance.client import Client\n",
    "from tensorflow.keras import layers\n",
    "from tensorflow import keras\n",
    "from tensorflow.keras.callbacks import EarlyStopping, ModelCheckpoint\n",
    "from tensorflow.keras.models import load_model\n",
    "from sklearn.preprocessing import MinMaxScaler"
   ]
  },
  {
   "cell_type": "markdown",
   "metadata": {},
   "source": [
    "Объединим все части нашей программы\n",
    "Чтобы процесс проходил следующим образом:\n",
    "\n",
    "    1. Получаю данные за 15 последних минут из client.get_klines()\n",
    "    \n",
    "    2. Преобразую их в нужный вид для входа в нейросеть с помощью функции convert\n",
    "    \n",
    "    3. Подаю данные в нейросеть и получаю ответ\n",
    "    \n",
    "    4. В зависимости от ответа, покупаю, либо ничего не делаю и жду следующую минуту\n",
    "\n",
    "Но, для начала надо, чтобы некоторые вещи были подготовлены:\n",
    "\n",
    "    1. Был обучен scaler\n",
    "    \n",
    "    2. Была определена нейронная сеть(через сохраненные веса после оубчения либо через сохраненную модель)"
   ]
  },
  {
   "cell_type": "code",
   "execution_count": 2,
   "metadata": {},
   "outputs": [],
   "source": [
    "#загружаем модель с обученными весами\n",
    "model = load_model(\"57_test_precision.h5\")"
   ]
  },
  {
   "cell_type": "code",
   "execution_count": 3,
   "metadata": {},
   "outputs": [
    {
     "data": {
      "text/plain": [
       "MinMaxScaler()"
      ]
     },
     "execution_count": 3,
     "metadata": {},
     "output_type": "execute_result"
    }
   ],
   "source": [
    "#обучаем scaler\n",
    "data_for_fit_scaler = pd.read_csv(\"df_to_fit_scaler.csv\")\n",
    "scaler = MinMaxScaler()\n",
    "scaler.fit(data_for_fit_scaler)"
   ]
  },
  {
   "cell_type": "markdown",
   "metadata": {},
   "source": [
    "Начинаем соединять все части программы"
   ]
  },
  {
   "cell_type": "code",
   "execution_count": 4,
   "metadata": {},
   "outputs": [],
   "source": [
    "#получаем один экземпляр на минутном таймфрейме\n",
    "asset = \"BTCUSDT\"\n",
    "client = Client(api_key = api_key, api_secret = secret_key)\n",
    "sample = client.get_klines(symbol = asset, interval = \"1m\", limit = 15)"
   ]
  },
  {
   "cell_type": "code",
   "execution_count": 5,
   "metadata": {},
   "outputs": [],
   "source": [
    "#конвертируем\n",
    "convert_sample = convert(sample, scaler)"
   ]
  },
  {
   "cell_type": "code",
   "execution_count": 6,
   "metadata": {},
   "outputs": [],
   "source": [
    "#узнаем результат\n",
    "result = model.predict(convert_sample)"
   ]
  },
  {
   "cell_type": "code",
   "execution_count": 7,
   "metadata": {},
   "outputs": [
    {
     "name": "stdout",
     "output_type": "stream",
     "text": [
      "[[0.0123848]]\n"
     ]
    }
   ],
   "source": [
    "print(result)"
   ]
  },
  {
   "cell_type": "code",
   "execution_count": 8,
   "metadata": {},
   "outputs": [],
   "source": [
    "#напишем простенький скрипт с объединением этих этапов\n",
    "import time\n",
    "import datetime\n",
    "\n",
    "def main_script():\n",
    "    sample = client.get_klines(symbol = asset, interval = \"1m\", limit = 15)\n",
    "    convert_sample = convert(sample, scaler)\n",
    "    result = model.predict(convert_sample)\n",
    "    time_curr = datetime.datetime.fromtimestamp(time.time()).minute + 1\n",
    "    if result >0.5:\n",
    "        print(f\"На {time_curr} минуте должен быть скачек на 0.5\")\n",
    "    else:\n",
    "        print(f\"на {time_curr} ничего нет\")"
   ]
  },
  {
   "cell_type": "code",
   "execution_count": 10,
   "metadata": {},
   "outputs": [
    {
     "name": "stdout",
     "output_type": "stream",
     "text": [
      "на 2 ничего нет\n",
      "на 3 ничего нет\n",
      "на 4 ничего нет\n",
      "на 5 ничего нет\n",
      "на 6 ничего нет\n",
      "на 7 ничего нет\n",
      "на 8 ничего нет\n",
      "на 9 ничего нет\n",
      "на 10 ничего нет\n",
      "на 11 ничего нет\n",
      "на 12 ничего нет\n",
      "на 13 ничего нет\n",
      "на 14 ничего нет\n",
      "на 15 ничего нет\n",
      "на 16 ничего нет\n",
      "на 17 ничего нет\n",
      "на 18 ничего нет\n",
      "на 19 ничего нет\n",
      "на 20 ничего нет\n",
      "на 21 ничего нет\n"
     ]
    }
   ],
   "source": [
    "#затестим на сеюминутных данных данных\n",
    "for i in range(20):\n",
    "    main_script()\n",
    "    time.sleep(60)"
   ]
  },
  {
   "cell_type": "code",
   "execution_count": null,
   "metadata": {},
   "outputs": [],
   "source": []
  }
 ],
 "metadata": {
  "kernelspec": {
   "display_name": "Python 3",
   "language": "python",
   "name": "python3"
  },
  "language_info": {
   "codemirror_mode": {
    "name": "ipython",
    "version": 3
   },
   "file_extension": ".py",
   "mimetype": "text/x-python",
   "name": "python",
   "nbconvert_exporter": "python",
   "pygments_lexer": "ipython3",
   "version": "3.8.6"
  }
 },
 "nbformat": 4,
 "nbformat_minor": 4
}
