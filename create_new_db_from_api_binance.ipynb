{
 "cells": [
  {
   "cell_type": "code",
   "execution_count": 142,
   "metadata": {},
   "outputs": [],
   "source": [
    "from config import api_key, secret_key\n",
    "import time\n",
    "import datetime\n",
    "from binance.client import Client\n",
    "import pandas as pd\n",
    "import numpy as np"
   ]
  },
  {
   "cell_type": "code",
   "execution_count": 143,
   "metadata": {},
   "outputs": [],
   "source": [
    "client = Client(api_key = api_key, api_secret = secret_key)\n",
    "lines = client.get_klines(symbol = \"BTCUSDT\", interval = \"1m\", limit = 1000,startTime = 1596229260000)\n",
    "df = pd.DataFrame(data = lines)"
   ]
  },
  {
   "cell_type": "code",
   "execution_count": 144,
   "metadata": {},
   "outputs": [
    {
     "data": {
      "text/plain": [
       "(1000, 12)"
      ]
     },
     "execution_count": 144,
     "metadata": {},
     "output_type": "execute_result"
    }
   ],
   "source": [
    "df.shape"
   ]
  },
  {
   "cell_type": "code",
   "execution_count": 145,
   "metadata": {},
   "outputs": [],
   "source": [
    "for start_time in range(1596289260000, 1612375740001, 60000000):\n",
    "    lines = client.get_klines(symbol = \"BTCUSDT\", interval = \"1m\", limit = 1000,startTime = start_time)\n",
    "    df = df.append(pd.DataFrame(data = lines), ignore_index = True)"
   ]
  },
  {
   "cell_type": "code",
   "execution_count": 146,
   "metadata": {},
   "outputs": [],
   "source": [
    "df.to_csv(\"binance_btcusd.csv\")"
   ]
  },
  {
   "cell_type": "code",
   "execution_count": 147,
   "metadata": {},
   "outputs": [
    {
     "data": {
      "text/plain": [
       "(269176, 12)"
      ]
     },
     "execution_count": 147,
     "metadata": {},
     "output_type": "execute_result"
    }
   ],
   "source": [
    "df.shape"
   ]
  },
  {
   "cell_type": "code",
   "execution_count": 154,
   "metadata": {},
   "outputs": [],
   "source": [
    "df[\"year\"] = pd.to_datetime(df[0], unit = \"ms\").dt.year\n",
    "df[\"month\"] = pd.to_datetime(df[0], unit = \"ms\").dt.month\n",
    "df[\"day\"] = pd.to_datetime(df[0], unit = \"ms\").dt.day\n",
    "df[\"hour\"] = pd.to_datetime(df[0], unit = \"ms\").dt.hour + 3\n",
    "df[\"minute\"] = pd.to_datetime(df[0], unit = \"ms\").dt.minute"
   ]
  },
  {
   "cell_type": "code",
   "execution_count": 163,
   "metadata": {
    "scrolled": true
   },
   "outputs": [
    {
     "data": {
      "text/html": [
       "<div>\n",
       "<style scoped>\n",
       "    .dataframe tbody tr th:only-of-type {\n",
       "        vertical-align: middle;\n",
       "    }\n",
       "\n",
       "    .dataframe tbody tr th {\n",
       "        vertical-align: top;\n",
       "    }\n",
       "\n",
       "    .dataframe thead th {\n",
       "        text-align: right;\n",
       "    }\n",
       "</style>\n",
       "<table border=\"1\" class=\"dataframe\">\n",
       "  <thead>\n",
       "    <tr style=\"text-align: right;\">\n",
       "      <th></th>\n",
       "      <th>0</th>\n",
       "      <th>1</th>\n",
       "      <th>2</th>\n",
       "      <th>3</th>\n",
       "      <th>4</th>\n",
       "      <th>5</th>\n",
       "      <th>6</th>\n",
       "      <th>7</th>\n",
       "      <th>8</th>\n",
       "      <th>9</th>\n",
       "      <th>10</th>\n",
       "      <th>11</th>\n",
       "      <th>year</th>\n",
       "      <th>month</th>\n",
       "      <th>day</th>\n",
       "      <th>hour</th>\n",
       "      <th>minute</th>\n",
       "      <th>target</th>\n",
       "    </tr>\n",
       "  </thead>\n",
       "  <tbody>\n",
       "    <tr>\n",
       "      <th>0</th>\n",
       "      <td>1.596229e+12</td>\n",
       "      <td>11322.049805</td>\n",
       "      <td>11323.019531</td>\n",
       "      <td>11294.000000</td>\n",
       "      <td>11297.150391</td>\n",
       "      <td>75.471275</td>\n",
       "      <td>1.596229e+12</td>\n",
       "      <td>8.534481e+05</td>\n",
       "      <td>1200.0</td>\n",
       "      <td>24.872009</td>\n",
       "      <td>281269.312500</td>\n",
       "      <td>0.0</td>\n",
       "      <td>2020.0</td>\n",
       "      <td>7.0</td>\n",
       "      <td>31.0</td>\n",
       "      <td>24.0</td>\n",
       "      <td>1.0</td>\n",
       "      <td>False</td>\n",
       "    </tr>\n",
       "    <tr>\n",
       "      <th>1</th>\n",
       "      <td>1.596229e+12</td>\n",
       "      <td>11298.559570</td>\n",
       "      <td>11332.019531</td>\n",
       "      <td>11297.070312</td>\n",
       "      <td>11330.860352</td>\n",
       "      <td>57.374001</td>\n",
       "      <td>1.596229e+12</td>\n",
       "      <td>6.492224e+05</td>\n",
       "      <td>1486.0</td>\n",
       "      <td>36.822922</td>\n",
       "      <td>416647.500000</td>\n",
       "      <td>0.0</td>\n",
       "      <td>2020.0</td>\n",
       "      <td>7.0</td>\n",
       "      <td>31.0</td>\n",
       "      <td>24.0</td>\n",
       "      <td>2.0</td>\n",
       "      <td>False</td>\n",
       "    </tr>\n",
       "    <tr>\n",
       "      <th>2</th>\n",
       "      <td>1.596229e+12</td>\n",
       "      <td>11331.089844</td>\n",
       "      <td>11350.059570</td>\n",
       "      <td>11330.860352</td>\n",
       "      <td>11347.440430</td>\n",
       "      <td>76.438370</td>\n",
       "      <td>1.596229e+12</td>\n",
       "      <td>8.670461e+05</td>\n",
       "      <td>1114.0</td>\n",
       "      <td>59.610737</td>\n",
       "      <td>676161.687500</td>\n",
       "      <td>0.0</td>\n",
       "      <td>2020.0</td>\n",
       "      <td>7.0</td>\n",
       "      <td>31.0</td>\n",
       "      <td>24.0</td>\n",
       "      <td>3.0</td>\n",
       "      <td>False</td>\n",
       "    </tr>\n",
       "    <tr>\n",
       "      <th>3</th>\n",
       "      <td>1.596229e+12</td>\n",
       "      <td>11347.440430</td>\n",
       "      <td>11365.280273</td>\n",
       "      <td>11347.440430</td>\n",
       "      <td>11363.269531</td>\n",
       "      <td>90.757347</td>\n",
       "      <td>1.596230e+12</td>\n",
       "      <td>1.030781e+06</td>\n",
       "      <td>1130.0</td>\n",
       "      <td>52.535248</td>\n",
       "      <td>596693.062500</td>\n",
       "      <td>0.0</td>\n",
       "      <td>2020.0</td>\n",
       "      <td>7.0</td>\n",
       "      <td>31.0</td>\n",
       "      <td>24.0</td>\n",
       "      <td>4.0</td>\n",
       "      <td>False</td>\n",
       "    </tr>\n",
       "    <tr>\n",
       "      <th>4</th>\n",
       "      <td>1.596230e+12</td>\n",
       "      <td>11363.459961</td>\n",
       "      <td>11365.519531</td>\n",
       "      <td>11363.269531</td>\n",
       "      <td>11364.080078</td>\n",
       "      <td>21.991909</td>\n",
       "      <td>1.596230e+12</td>\n",
       "      <td>2.499153e+05</td>\n",
       "      <td>332.0</td>\n",
       "      <td>4.848286</td>\n",
       "      <td>55096.554688</td>\n",
       "      <td>0.0</td>\n",
       "      <td>2020.0</td>\n",
       "      <td>7.0</td>\n",
       "      <td>31.0</td>\n",
       "      <td>24.0</td>\n",
       "      <td>5.0</td>\n",
       "      <td>False</td>\n",
       "    </tr>\n",
       "  </tbody>\n",
       "</table>\n",
       "</div>"
      ],
      "text/plain": [
       "              0             1             2             3             4  \\\n",
       "0  1.596229e+12  11322.049805  11323.019531  11294.000000  11297.150391   \n",
       "1  1.596229e+12  11298.559570  11332.019531  11297.070312  11330.860352   \n",
       "2  1.596229e+12  11331.089844  11350.059570  11330.860352  11347.440430   \n",
       "3  1.596229e+12  11347.440430  11365.280273  11347.440430  11363.269531   \n",
       "4  1.596230e+12  11363.459961  11365.519531  11363.269531  11364.080078   \n",
       "\n",
       "           5             6             7       8          9             10  \\\n",
       "0  75.471275  1.596229e+12  8.534481e+05  1200.0  24.872009  281269.312500   \n",
       "1  57.374001  1.596229e+12  6.492224e+05  1486.0  36.822922  416647.500000   \n",
       "2  76.438370  1.596229e+12  8.670461e+05  1114.0  59.610737  676161.687500   \n",
       "3  90.757347  1.596230e+12  1.030781e+06  1130.0  52.535248  596693.062500   \n",
       "4  21.991909  1.596230e+12  2.499153e+05   332.0   4.848286   55096.554688   \n",
       "\n",
       "    11    year  month   day  hour  minute  target  \n",
       "0  0.0  2020.0    7.0  31.0  24.0     1.0   False  \n",
       "1  0.0  2020.0    7.0  31.0  24.0     2.0   False  \n",
       "2  0.0  2020.0    7.0  31.0  24.0     3.0   False  \n",
       "3  0.0  2020.0    7.0  31.0  24.0     4.0   False  \n",
       "4  0.0  2020.0    7.0  31.0  24.0     5.0   False  "
      ]
     },
     "execution_count": 163,
     "metadata": {},
     "output_type": "execute_result"
    }
   ],
   "source": [
    "df.head()"
   ]
  },
  {
   "cell_type": "code",
   "execution_count": 159,
   "metadata": {},
   "outputs": [],
   "source": [
    "df = df.astype(\"float32\")"
   ]
  },
  {
   "cell_type": "code",
   "execution_count": 160,
   "metadata": {},
   "outputs": [],
   "source": [
    "df[\"target\"] = ((df[2]-df[1])/df[1])>=0.005"
   ]
  },
  {
   "cell_type": "code",
   "execution_count": 162,
   "metadata": {},
   "outputs": [
    {
     "data": {
      "text/plain": [
       "0.006438166849942045"
      ]
     },
     "execution_count": 162,
     "metadata": {},
     "output_type": "execute_result"
    }
   ],
   "source": []
  },
  {
   "cell_type": "code",
   "execution_count": null,
   "metadata": {},
   "outputs": [],
   "source": []
  }
 ],
 "metadata": {
  "kernelspec": {
   "display_name": "Python 3",
   "language": "python",
   "name": "python3"
  },
  "language_info": {
   "codemirror_mode": {
    "name": "ipython",
    "version": 3
   },
   "file_extension": ".py",
   "mimetype": "text/x-python",
   "name": "python",
   "nbconvert_exporter": "python",
   "pygments_lexer": "ipython3",
   "version": "3.8.6"
  }
 },
 "nbformat": 4,
 "nbformat_minor": 4
}
